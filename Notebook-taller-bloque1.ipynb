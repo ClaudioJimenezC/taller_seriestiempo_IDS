{
 "cells": [
  {
   "cell_type": "markdown",
   "metadata": {},
   "source": [
    "# Bloque 1: Naturaleza de las series de tiempo\n",
    "\n",
    "Melanie Oyarzún W.\n",
    "\n",
    "\n",
    "**Resultado de aprendizaje esperado:**\n",
    "\n",
    "Identificar datos de series temporales, sus particularidades y riesgos, en el contexto de posibles aplicaciones profesionales.\n",
    "\n",
    "**Bibliografía recomendada:**\n",
    "\n",
    "Stock & Watson, C.14 [link](https://www.dropbox.com/s/d09qcat340jy5q2/stock%20y%20watson%20-%20Introduccion%20a%20la%20Econometria.pdf?dl=0) ; Wooldridge, c.12 [link](https://www.dropbox.com/s/wrh0tuna27qp747/Wooldridge__Introductory_Econometrics_2nd_Ed_Solutions.pdf?dl=0), Gujarati, c.12  [link](https://www.dropbox.com/s/rrvth8vsa1c5gts/Gujarati-cap%2012.pdf?dl=0)\n",
    "\n",
    "**Material de apoyo***\n",
    "\n",
    "El taller cuenta con un repositorio  [https://github.com/melanieoyarzun/taller_IDS2021](https://github.com/melanieoyarzun/taller_IDS2021) en el cual está dispoinible todo el material.\n",
    "\n",
    "**Slides**\n",
    "\n",
    "Estan disponibles en el repositorio o directamente en el link \n",
    "\n",
    "---"
   ]
  },
  {
   "cell_type": "code",
   "execution_count": 1,
   "metadata": {},
   "outputs": [
    {
     "data": {
      "text/plain": [
       "<Figure size 1000x600 with 0 Axes>"
      ]
     },
     "execution_count": 1,
     "metadata": {},
     "output_type": "execute_result"
    },
    {
     "data": {
      "text/plain": [
       "<Figure size 1000x600 with 0 Axes>"
      ]
     },
     "metadata": {},
     "output_type": "display_data"
    }
   ],
   "source": [
    "# Paquetes y settings\n",
    "\n",
    "from dateutil.parser import parse \n",
    "import matplotlib as mpl\n",
    "import matplotlib.pyplot as plt\n",
    "import seaborn as sns\n",
    "import numpy as np\n",
    "import pandas as pd\n",
    "import watermark\n",
    "\n",
    "\n",
    "#%matplotlib inline\n",
    "%load_ext watermark\n",
    "\n",
    "# setting de graficos\n",
    "\n",
    "plt.figure(figsize=(5,3), dpi= 200, facecolor='w', edgecolor='k')\n"
   ]
  },
  {
   "cell_type": "code",
   "execution_count": 2,
   "metadata": {},
   "outputs": [
    {
     "name": "stdout",
     "output_type": "stream",
     "text": [
      "Python implementation: CPython\n",
      "Python version       : 3.9.7\n",
      "IPython version      : 7.29.0\n",
      "\n",
      "Compiler    : Clang 10.0.0 \n",
      "OS          : Darwin\n",
      "Release     : 20.6.0\n",
      "Machine     : x86_64\n",
      "Processor   : i386\n",
      "CPU cores   : 4\n",
      "Architecture: 64bit\n",
      "\n",
      "Git hash: aef3c6ddbb2a0445b60074d46581d039a1946002\n",
      "\n",
      "seaborn   : 0.11.2\n",
      "pandas    : 1.3.4\n",
      "watermark : 2.2.0\n",
      "sys       : 3.9.7 (default, Sep 16 2021, 08:50:36) \n",
      "[Clang 10.0.0 ]\n",
      "numpy     : 1.20.3\n",
      "matplotlib: 3.4.3\n",
      "\n"
     ]
    }
   ],
   "source": [
    "%watermark -n -v -m -g -iv"
   ]
  },
  {
   "cell_type": "markdown",
   "metadata": {},
   "source": [
    "# Tipos de datos\n",
    "\n",
    "Los datos que analizamos con modelos se pueden categorizar en tres grandes tipos: \n",
    "\n",
    "- corte transversal \n",
    "- series de tiempo (o longitudinal)\n",
    "- panel\n",
    "\n",
    "## Corte transversal\n",
    "Cuando se empieza a estudiar modelamiento de datos, la aplicación natural de estos es en lo que llamamos datos de corte transversal. En estos, la **unidad de observación** son individuos separados unos de otros. \n",
    "\n",
    "Usualmente, cada fila reprsenta un individuo (personas, familias, empresas) en un momento del tiempo específico (mismo año, mismo mes, etc). Es análogo a una *fotografía* de do grupo.\n"
   ]
  },
  {
   "cell_type": "markdown",
   "metadata": {},
   "source": [
    "Un ejemplo de esto es la encuesta Casen [(http://observatorio.ministeriodesarrollosocial.gob.cl/encuesta-casen)](http://observatorio.ministeriodesarrollosocial.gob.cl/encuesta-casen) o Encuesta de Caracterización Socioeconómica Nacional.\n",
    "\n",
    "Esta es una encuesta de caracter nacional realizada a hogares, en la cual se busca levantar información para conocer la situación de los hogares y de la población, especialmente de aquella en situación de pobreza y de aquellos grupos definidos como prioritarios y permite evaluar impacto de política social. Es representativa a nivel regional.\n",
    "\n",
    "Es realizada por el Ministerio de Desarrollo Social desde el año 1990 con una periodicidad; bianual o trianual. Hasta ahora, las encuestas aplicadas corresponden a los años 1990, 1992, 1994, 1996, 1998, 2000, 2003, 2006, 2009, 2011, 2013, 2105 y 2017."
   ]
  },
  {
   "cell_type": "code",
   "execution_count": 3,
   "metadata": {},
   "outputs": [
    {
     "data": {
      "text/html": [
       "<div>\n",
       "<style scoped>\n",
       "    .dataframe tbody tr th:only-of-type {\n",
       "        vertical-align: middle;\n",
       "    }\n",
       "\n",
       "    .dataframe tbody tr th {\n",
       "        vertical-align: top;\n",
       "    }\n",
       "\n",
       "    .dataframe thead th {\n",
       "        text-align: right;\n",
       "    }\n",
       "</style>\n",
       "<table border=\"1\" class=\"dataframe\">\n",
       "  <thead>\n",
       "    <tr style=\"text-align: right;\">\n",
       "      <th></th>\n",
       "      <th>folio</th>\n",
       "      <th>o</th>\n",
       "      <th>id_persona</th>\n",
       "      <th>region</th>\n",
       "      <th>comuna</th>\n",
       "      <th>zona</th>\n",
       "      <th>expr</th>\n",
       "      <th>edad</th>\n",
       "      <th>sexo</th>\n",
       "      <th>tot_per</th>\n",
       "      <th>...</th>\n",
       "      <th>esc2</th>\n",
       "      <th>educ</th>\n",
       "      <th>o1</th>\n",
       "      <th>yaut</th>\n",
       "      <th>yauth</th>\n",
       "      <th>yautcor</th>\n",
       "      <th>yautcorh</th>\n",
       "      <th>ytrabajocor</th>\n",
       "      <th>ytrabajocorh</th>\n",
       "      <th>yae</th>\n",
       "    </tr>\n",
       "  </thead>\n",
       "  <tbody>\n",
       "    <tr>\n",
       "      <th>0</th>\n",
       "      <td>1.101100e+11</td>\n",
       "      <td>1</td>\n",
       "      <td>5</td>\n",
       "      <td>Región de Tarapacá</td>\n",
       "      <td>Iquique</td>\n",
       "      <td>Urbano</td>\n",
       "      <td>67</td>\n",
       "      <td>34</td>\n",
       "      <td>Mujer</td>\n",
       "      <td>2</td>\n",
       "      <td>...</td>\n",
       "      <td>12.0</td>\n",
       "      <td>Media humanista completa</td>\n",
       "      <td>No</td>\n",
       "      <td>220000.0</td>\n",
       "      <td>300000</td>\n",
       "      <td>220000.0</td>\n",
       "      <td>300000</td>\n",
       "      <td>150000.0</td>\n",
       "      <td>150000.0</td>\n",
       "      <td>240586.0</td>\n",
       "    </tr>\n",
       "    <tr>\n",
       "      <th>1</th>\n",
       "      <td>1.101100e+11</td>\n",
       "      <td>2</td>\n",
       "      <td>6</td>\n",
       "      <td>Región de Tarapacá</td>\n",
       "      <td>Iquique</td>\n",
       "      <td>Urbano</td>\n",
       "      <td>67</td>\n",
       "      <td>4</td>\n",
       "      <td>Mujer</td>\n",
       "      <td>2</td>\n",
       "      <td>...</td>\n",
       "      <td>NaN</td>\n",
       "      <td>Sin educación formal</td>\n",
       "      <td>NaN</td>\n",
       "      <td>80000.0</td>\n",
       "      <td>300000</td>\n",
       "      <td>80000.0</td>\n",
       "      <td>300000</td>\n",
       "      <td>NaN</td>\n",
       "      <td>150000.0</td>\n",
       "      <td>240586.0</td>\n",
       "    </tr>\n",
       "    <tr>\n",
       "      <th>2</th>\n",
       "      <td>1.101100e+11</td>\n",
       "      <td>2</td>\n",
       "      <td>31</td>\n",
       "      <td>Región de Tarapacá</td>\n",
       "      <td>Iquique</td>\n",
       "      <td>Urbano</td>\n",
       "      <td>67</td>\n",
       "      <td>5</td>\n",
       "      <td>Mujer</td>\n",
       "      <td>3</td>\n",
       "      <td>...</td>\n",
       "      <td>NaN</td>\n",
       "      <td>Básica incompleta</td>\n",
       "      <td>NaN</td>\n",
       "      <td>25000.0</td>\n",
       "      <td>941583</td>\n",
       "      <td>25000.0</td>\n",
       "      <td>941583</td>\n",
       "      <td>NaN</td>\n",
       "      <td>891583.0</td>\n",
       "      <td>439170.0</td>\n",
       "    </tr>\n",
       "    <tr>\n",
       "      <th>3</th>\n",
       "      <td>1.101100e+11</td>\n",
       "      <td>1</td>\n",
       "      <td>32</td>\n",
       "      <td>Región de Tarapacá</td>\n",
       "      <td>Iquique</td>\n",
       "      <td>Urbano</td>\n",
       "      <td>67</td>\n",
       "      <td>45</td>\n",
       "      <td>Hombre</td>\n",
       "      <td>3</td>\n",
       "      <td>...</td>\n",
       "      <td>15.0</td>\n",
       "      <td>Técnico nivel superior incompleta</td>\n",
       "      <td>Sí</td>\n",
       "      <td>889500.0</td>\n",
       "      <td>941583</td>\n",
       "      <td>889500.0</td>\n",
       "      <td>941583</td>\n",
       "      <td>889500.0</td>\n",
       "      <td>891583.0</td>\n",
       "      <td>439170.0</td>\n",
       "    </tr>\n",
       "    <tr>\n",
       "      <th>4</th>\n",
       "      <td>1.101100e+11</td>\n",
       "      <td>3</td>\n",
       "      <td>30</td>\n",
       "      <td>Región de Tarapacá</td>\n",
       "      <td>Iquique</td>\n",
       "      <td>Urbano</td>\n",
       "      <td>67</td>\n",
       "      <td>19</td>\n",
       "      <td>Mujer</td>\n",
       "      <td>3</td>\n",
       "      <td>...</td>\n",
       "      <td>NaN</td>\n",
       "      <td>No sabe</td>\n",
       "      <td>No</td>\n",
       "      <td>27083.0</td>\n",
       "      <td>941583</td>\n",
       "      <td>27083.0</td>\n",
       "      <td>941583</td>\n",
       "      <td>2083.0</td>\n",
       "      <td>891583.0</td>\n",
       "      <td>439170.0</td>\n",
       "    </tr>\n",
       "    <tr>\n",
       "      <th>5</th>\n",
       "      <td>1.101100e+11</td>\n",
       "      <td>2</td>\n",
       "      <td>117</td>\n",
       "      <td>Región de Tarapacá</td>\n",
       "      <td>Iquique</td>\n",
       "      <td>Urbano</td>\n",
       "      <td>67</td>\n",
       "      <td>57</td>\n",
       "      <td>Hombre</td>\n",
       "      <td>3</td>\n",
       "      <td>...</td>\n",
       "      <td>16.0</td>\n",
       "      <td>Técnico nivel superior completo</td>\n",
       "      <td>Sí</td>\n",
       "      <td>3000000.0</td>\n",
       "      <td>3004167</td>\n",
       "      <td>3000000.0</td>\n",
       "      <td>3004167</td>\n",
       "      <td>3000000.0</td>\n",
       "      <td>3004167.0</td>\n",
       "      <td>1522295.0</td>\n",
       "    </tr>\n",
       "    <tr>\n",
       "      <th>6</th>\n",
       "      <td>1.101100e+11</td>\n",
       "      <td>3</td>\n",
       "      <td>118</td>\n",
       "      <td>Región de Tarapacá</td>\n",
       "      <td>Iquique</td>\n",
       "      <td>Urbano</td>\n",
       "      <td>67</td>\n",
       "      <td>20</td>\n",
       "      <td>Hombre</td>\n",
       "      <td>3</td>\n",
       "      <td>...</td>\n",
       "      <td>14.0</td>\n",
       "      <td>Técnico nivel superior incompleta</td>\n",
       "      <td>No</td>\n",
       "      <td>NaN</td>\n",
       "      <td>3004167</td>\n",
       "      <td>NaN</td>\n",
       "      <td>3004167</td>\n",
       "      <td>NaN</td>\n",
       "      <td>3004167.0</td>\n",
       "      <td>1522295.0</td>\n",
       "    </tr>\n",
       "    <tr>\n",
       "      <th>7</th>\n",
       "      <td>1.101100e+11</td>\n",
       "      <td>1</td>\n",
       "      <td>116</td>\n",
       "      <td>Región de Tarapacá</td>\n",
       "      <td>Iquique</td>\n",
       "      <td>Urbano</td>\n",
       "      <td>67</td>\n",
       "      <td>56</td>\n",
       "      <td>Mujer</td>\n",
       "      <td>3</td>\n",
       "      <td>...</td>\n",
       "      <td>15.0</td>\n",
       "      <td>Técnico nivel superior completo</td>\n",
       "      <td>No</td>\n",
       "      <td>4167.0</td>\n",
       "      <td>3004167</td>\n",
       "      <td>4167.0</td>\n",
       "      <td>3004167</td>\n",
       "      <td>4167.0</td>\n",
       "      <td>3004167.0</td>\n",
       "      <td>1522295.0</td>\n",
       "    </tr>\n",
       "    <tr>\n",
       "      <th>8</th>\n",
       "      <td>1.101100e+11</td>\n",
       "      <td>1</td>\n",
       "      <td>2209</td>\n",
       "      <td>Región de Tarapacá</td>\n",
       "      <td>Iquique</td>\n",
       "      <td>Urbano</td>\n",
       "      <td>67</td>\n",
       "      <td>77</td>\n",
       "      <td>Hombre</td>\n",
       "      <td>2</td>\n",
       "      <td>...</td>\n",
       "      <td>10.0</td>\n",
       "      <td>Media técnica profesional incompleta</td>\n",
       "      <td>No</td>\n",
       "      <td>1250.0</td>\n",
       "      <td>128250</td>\n",
       "      <td>1250.0</td>\n",
       "      <td>128250</td>\n",
       "      <td>NaN</td>\n",
       "      <td>0.0</td>\n",
       "      <td>375653.0</td>\n",
       "    </tr>\n",
       "    <tr>\n",
       "      <th>9</th>\n",
       "      <td>1.101100e+11</td>\n",
       "      <td>2</td>\n",
       "      <td>2210</td>\n",
       "      <td>Región de Tarapacá</td>\n",
       "      <td>Iquique</td>\n",
       "      <td>Urbano</td>\n",
       "      <td>67</td>\n",
       "      <td>60</td>\n",
       "      <td>Mujer</td>\n",
       "      <td>2</td>\n",
       "      <td>...</td>\n",
       "      <td>12.0</td>\n",
       "      <td>Media humanista completa</td>\n",
       "      <td>No</td>\n",
       "      <td>127000.0</td>\n",
       "      <td>128250</td>\n",
       "      <td>127000.0</td>\n",
       "      <td>128250</td>\n",
       "      <td>NaN</td>\n",
       "      <td>0.0</td>\n",
       "      <td>375653.0</td>\n",
       "    </tr>\n",
       "  </tbody>\n",
       "</table>\n",
       "<p>10 rows × 22 columns</p>\n",
       "</div>"
      ],
      "text/plain": [
       "          folio  o  id_persona              region   comuna    zona  expr  \\\n",
       "0  1.101100e+11  1           5  Región de Tarapacá  Iquique  Urbano    67   \n",
       "1  1.101100e+11  2           6  Región de Tarapacá  Iquique  Urbano    67   \n",
       "2  1.101100e+11  2          31  Región de Tarapacá  Iquique  Urbano    67   \n",
       "3  1.101100e+11  1          32  Región de Tarapacá  Iquique  Urbano    67   \n",
       "4  1.101100e+11  3          30  Región de Tarapacá  Iquique  Urbano    67   \n",
       "5  1.101100e+11  2         117  Región de Tarapacá  Iquique  Urbano    67   \n",
       "6  1.101100e+11  3         118  Región de Tarapacá  Iquique  Urbano    67   \n",
       "7  1.101100e+11  1         116  Región de Tarapacá  Iquique  Urbano    67   \n",
       "8  1.101100e+11  1        2209  Región de Tarapacá  Iquique  Urbano    67   \n",
       "9  1.101100e+11  2        2210  Región de Tarapacá  Iquique  Urbano    67   \n",
       "\n",
       "   edad    sexo  tot_per  ...  esc2                                  educ  \\\n",
       "0    34   Mujer        2  ...  12.0              Media humanista completa   \n",
       "1     4   Mujer        2  ...   NaN                  Sin educación formal   \n",
       "2     5   Mujer        3  ...   NaN                     Básica incompleta   \n",
       "3    45  Hombre        3  ...  15.0     Técnico nivel superior incompleta   \n",
       "4    19   Mujer        3  ...   NaN                               No sabe   \n",
       "5    57  Hombre        3  ...  16.0       Técnico nivel superior completo   \n",
       "6    20  Hombre        3  ...  14.0     Técnico nivel superior incompleta   \n",
       "7    56   Mujer        3  ...  15.0       Técnico nivel superior completo   \n",
       "8    77  Hombre        2  ...  10.0  Media técnica profesional incompleta   \n",
       "9    60   Mujer        2  ...  12.0              Media humanista completa   \n",
       "\n",
       "    o1       yaut    yauth    yautcor  yautcorh  ytrabajocor  ytrabajocorh  \\\n",
       "0   No   220000.0   300000   220000.0    300000     150000.0      150000.0   \n",
       "1  NaN    80000.0   300000    80000.0    300000          NaN      150000.0   \n",
       "2  NaN    25000.0   941583    25000.0    941583          NaN      891583.0   \n",
       "3   Sí   889500.0   941583   889500.0    941583     889500.0      891583.0   \n",
       "4   No    27083.0   941583    27083.0    941583       2083.0      891583.0   \n",
       "5   Sí  3000000.0  3004167  3000000.0   3004167    3000000.0     3004167.0   \n",
       "6   No        NaN  3004167        NaN   3004167          NaN     3004167.0   \n",
       "7   No     4167.0  3004167     4167.0   3004167       4167.0     3004167.0   \n",
       "8   No     1250.0   128250     1250.0    128250          NaN           0.0   \n",
       "9   No   127000.0   128250   127000.0    128250          NaN           0.0   \n",
       "\n",
       "         yae  \n",
       "0   240586.0  \n",
       "1   240586.0  \n",
       "2   439170.0  \n",
       "3   439170.0  \n",
       "4   439170.0  \n",
       "5  1522295.0  \n",
       "6  1522295.0  \n",
       "7  1522295.0  \n",
       "8   375653.0  \n",
       "9   375653.0  \n",
       "\n",
       "[10 rows x 22 columns]"
      ]
     },
     "execution_count": 3,
     "metadata": {},
     "output_type": "execute_result"
    }
   ],
   "source": [
    "df_casen2020= pd.read_stata(\"Data/casen_2020_ingresos.dta\")\n",
    "df_casen2020.head(10)"
   ]
  },
  {
   "cell_type": "code",
   "execution_count": 4,
   "metadata": {},
   "outputs": [
    {
     "name": "stdout",
     "output_type": "stream",
     "text": [
      "<class 'pandas.core.frame.DataFrame'>\n",
      "Int64Index: 185437 entries, 0 to 185436\n",
      "Data columns (total 22 columns):\n",
      " #   Column        Non-Null Count   Dtype   \n",
      "---  ------        --------------   -----   \n",
      " 0   folio         185437 non-null  float64 \n",
      " 1   o             185437 non-null  int8    \n",
      " 2   id_persona    185437 non-null  int16   \n",
      " 3   region        185437 non-null  category\n",
      " 4   comuna        185437 non-null  category\n",
      " 5   zona          185437 non-null  category\n",
      " 6   expr          185437 non-null  int16   \n",
      " 7   edad          185437 non-null  int16   \n",
      " 8   sexo          185437 non-null  category\n",
      " 9   tot_per       185437 non-null  int8    \n",
      " 10  ecivil        153892 non-null  category\n",
      " 11  esc           148886 non-null  float64 \n",
      " 12  esc2          148886 non-null  float64 \n",
      " 13  educ          185437 non-null  category\n",
      " 14  o1            151315 non-null  category\n",
      " 15  yaut          95399 non-null   float64 \n",
      " 16  yauth         185437 non-null  int32   \n",
      " 17  yautcor       102165 non-null  float64 \n",
      " 18  yautcorh      185437 non-null  int32   \n",
      " 19  ytrabajocor   73509 non-null   float32 \n",
      " 20  ytrabajocorh  185437 non-null  float32 \n",
      " 21  yae           185339 non-null  float64 \n",
      "dtypes: category(7), float32(2), float64(6), int16(3), int32(2), int8(2)\n",
      "memory usage: 15.6 MB\n"
     ]
    }
   ],
   "source": [
    "df_casen2020.info()"
   ]
  },
  {
   "cell_type": "code",
   "execution_count": 5,
   "metadata": {},
   "outputs": [
    {
     "data": {
      "text/plain": [
       "<AxesSubplot:xlabel='esc', ylabel='yaut'>"
      ]
     },
     "execution_count": 5,
     "metadata": {},
     "output_type": "execute_result"
    },
    {
     "data": {
      "image/png": "[encoded data removed]",
      "text/plain": [
       "<Figure size 432x288 with 1 Axes>"
      ]
     },
     "metadata": {
      "needs_background": "light"
     },
     "output_type": "display_data"
    }
   ],
   "source": [
    "\n",
    "sns.scatterplot(data=df_casen2020, x=\"esc\", y=\"yaut\", alpha=0.5)"
   ]
  },
  {
   "cell_type": "markdown",
   "metadata": {},
   "source": [
    "## Series de tiempo\n",
    "\n",
    "En cambio, un tipo diferente de datos son las **Series Temporales** o tambien longitudinales.\n",
    "\n",
    "En este tipo de información, se tiene diferentes momentos del tiempo (día, semana, mes, año, etc.) para una misma unidad de análisis (individuo, país, empresa, etc)\n",
    "\n",
    "Ejemplos típicos de series de tiempo son: \n",
    "- Datos macroeconómicos (PIB. Inglación, empleo, etc.)\n",
    "- Financieros (precios de acciones)\n",
    "- Empresariales (Ventas, costos, etc...)\n"
   ]
  },
  {
   "cell_type": "code",
   "execution_count": 6,
   "metadata": {},
   "outputs": [
    {
     "data": {
      "text/html": [
       "<div>\n",
       "<style scoped>\n",
       "    .dataframe tbody tr th:only-of-type {\n",
       "        vertical-align: middle;\n",
       "    }\n",
       "\n",
       "    .dataframe tbody tr th {\n",
       "        vertical-align: top;\n",
       "    }\n",
       "\n",
       "    .dataframe thead th {\n",
       "        text-align: right;\n",
       "    }\n",
       "</style>\n",
       "<table border=\"1\" class=\"dataframe\">\n",
       "  <thead>\n",
       "    <tr style=\"text-align: right;\">\n",
       "      <th></th>\n",
       "      <th>date</th>\n",
       "      <th>open</th>\n",
       "      <th>high</th>\n",
       "      <th>low</th>\n",
       "      <th>close</th>\n",
       "      <th>adjclose</th>\n",
       "      <th>volume</th>\n",
       "      <th>ticker</th>\n",
       "    </tr>\n",
       "  </thead>\n",
       "  <tbody>\n",
       "    <tr>\n",
       "      <th>0</th>\n",
       "      <td>2009-11-30</td>\n",
       "      <td>143.619995</td>\n",
       "      <td>145.910004</td>\n",
       "      <td>135.110001</td>\n",
       "      <td>137.580002</td>\n",
       "      <td>137.580002</td>\n",
       "      <td>31350900</td>\n",
       "      <td>AMZN</td>\n",
       "    </tr>\n",
       "    <tr>\n",
       "      <th>1</th>\n",
       "      <td>2009-12-07</td>\n",
       "      <td>138.000000</td>\n",
       "      <td>139.000000</td>\n",
       "      <td>129.820007</td>\n",
       "      <td>134.149994</td>\n",
       "      <td>134.149994</td>\n",
       "      <td>47863000</td>\n",
       "      <td>AMZN</td>\n",
       "    </tr>\n",
       "    <tr>\n",
       "      <th>2</th>\n",
       "      <td>2009-12-14</td>\n",
       "      <td>132.500000</td>\n",
       "      <td>132.610001</td>\n",
       "      <td>125.650002</td>\n",
       "      <td>128.479996</td>\n",
       "      <td>128.479996</td>\n",
       "      <td>45794900</td>\n",
       "      <td>AMZN</td>\n",
       "    </tr>\n",
       "    <tr>\n",
       "      <th>3</th>\n",
       "      <td>2009-12-21</td>\n",
       "      <td>130.479996</td>\n",
       "      <td>139.699997</td>\n",
       "      <td>130.190002</td>\n",
       "      <td>138.470001</td>\n",
       "      <td>138.470001</td>\n",
       "      <td>32406000</td>\n",
       "      <td>AMZN</td>\n",
       "    </tr>\n",
       "    <tr>\n",
       "      <th>4</th>\n",
       "      <td>2009-12-28</td>\n",
       "      <td>139.750000</td>\n",
       "      <td>142.580002</td>\n",
       "      <td>134.520004</td>\n",
       "      <td>134.520004</td>\n",
       "      <td>134.520004</td>\n",
       "      <td>28600700</td>\n",
       "      <td>AMZN</td>\n",
       "    </tr>\n",
       "    <tr>\n",
       "      <th>...</th>\n",
       "      <td>...</td>\n",
       "      <td>...</td>\n",
       "      <td>...</td>\n",
       "      <td>...</td>\n",
       "      <td>...</td>\n",
       "      <td>...</td>\n",
       "      <td>...</td>\n",
       "      <td>...</td>\n",
       "    </tr>\n",
       "    <tr>\n",
       "      <th>518</th>\n",
       "      <td>2019-11-04</td>\n",
       "      <td>1801.010010</td>\n",
       "      <td>1815.060059</td>\n",
       "      <td>1774.040039</td>\n",
       "      <td>1785.880005</td>\n",
       "      <td>1785.880005</td>\n",
       "      <td>11461600</td>\n",
       "      <td>AMZN</td>\n",
       "    </tr>\n",
       "    <tr>\n",
       "      <th>519</th>\n",
       "      <td>2019-11-11</td>\n",
       "      <td>1778.000000</td>\n",
       "      <td>1786.219971</td>\n",
       "      <td>1732.859985</td>\n",
       "      <td>1739.489990</td>\n",
       "      <td>1739.489990</td>\n",
       "      <td>13165500</td>\n",
       "      <td>AMZN</td>\n",
       "    </tr>\n",
       "    <tr>\n",
       "      <th>520</th>\n",
       "      <td>2019-11-18</td>\n",
       "      <td>1738.300049</td>\n",
       "      <td>1762.520020</td>\n",
       "      <td>1722.709961</td>\n",
       "      <td>1745.719971</td>\n",
       "      <td>1745.719971</td>\n",
       "      <td>13042300</td>\n",
       "      <td>AMZN</td>\n",
       "    </tr>\n",
       "    <tr>\n",
       "      <th>521</th>\n",
       "      <td>2019-11-25</td>\n",
       "      <td>1753.250000</td>\n",
       "      <td>1824.689941</td>\n",
       "      <td>1753.239990</td>\n",
       "      <td>1800.800049</td>\n",
       "      <td>1800.800049</td>\n",
       "      <td>11616400</td>\n",
       "      <td>AMZN</td>\n",
       "    </tr>\n",
       "    <tr>\n",
       "      <th>522</th>\n",
       "      <td>2019-12-02</td>\n",
       "      <td>1804.400024</td>\n",
       "      <td>1805.550049</td>\n",
       "      <td>1747.229980</td>\n",
       "      <td>1769.959961</td>\n",
       "      <td>1769.959961</td>\n",
       "      <td>7306500</td>\n",
       "      <td>AMZN</td>\n",
       "    </tr>\n",
       "  </tbody>\n",
       "</table>\n",
       "<p>523 rows × 8 columns</p>\n",
       "</div>"
      ],
      "text/plain": [
       "          date         open         high          low        close  \\\n",
       "0   2009-11-30   143.619995   145.910004   135.110001   137.580002   \n",
       "1   2009-12-07   138.000000   139.000000   129.820007   134.149994   \n",
       "2   2009-12-14   132.500000   132.610001   125.650002   128.479996   \n",
       "3   2009-12-21   130.479996   139.699997   130.190002   138.470001   \n",
       "4   2009-12-28   139.750000   142.580002   134.520004   134.520004   \n",
       "..         ...          ...          ...          ...          ...   \n",
       "518 2019-11-04  1801.010010  1815.060059  1774.040039  1785.880005   \n",
       "519 2019-11-11  1778.000000  1786.219971  1732.859985  1739.489990   \n",
       "520 2019-11-18  1738.300049  1762.520020  1722.709961  1745.719971   \n",
       "521 2019-11-25  1753.250000  1824.689941  1753.239990  1800.800049   \n",
       "522 2019-12-02  1804.400024  1805.550049  1747.229980  1769.959961   \n",
       "\n",
       "        adjclose    volume ticker  \n",
       "0     137.580002  31350900   AMZN  \n",
       "1     134.149994  47863000   AMZN  \n",
       "2     128.479996  45794900   AMZN  \n",
       "3     138.470001  32406000   AMZN  \n",
       "4     134.520004  28600700   AMZN  \n",
       "..           ...       ...    ...  \n",
       "518  1785.880005  11461600   AMZN  \n",
       "519  1739.489990  13165500   AMZN  \n",
       "520  1745.719971  13042300   AMZN  \n",
       "521  1800.800049  11616400   AMZN  \n",
       "522  1769.959961   7306500   AMZN  \n",
       "\n",
       "[523 rows x 8 columns]"
      ]
     },
     "execution_count": 6,
     "metadata": {},
     "output_type": "execute_result"
    }
   ],
   "source": [
    "#Ejemplo datos de acciones\n",
    "\n",
    "#Usemos la api de Yahoo finance: pip install yahoo_fin y pip install requests_html\n",
    "\n",
    "from yahoo_fin.stock_info import get_data\n",
    "\n",
    "amazon_weekly= get_data(\"amzn\", start_date=\"12/04/2009\", end_date=\"12/04/2019\", index_as_date = False, interval=\"1wk\")\n",
    "amazon_weekly\n"
   ]
  },
  {
   "cell_type": "code",
   "execution_count": 7,
   "metadata": {},
   "outputs": [
    {
     "data": {
      "text/plain": [
       "<AxesSubplot:xlabel='date', ylabel='open'>"
      ]
     },
     "execution_count": 7,
     "metadata": {},
     "output_type": "execute_result"
    },
    {
     "data": {
      "image/png": "[encoded data removed]",
      "text/plain": [
       "<Figure size 432x288 with 1 Axes>"
      ]
     },
     "metadata": {
      "needs_background": "light"
     },
     "output_type": "display_data"
    }
   ],
   "source": [
    "sns.scatterplot(data=amazon_weekly, y=\"open\", x=\"date\")"
   ]
  },
  {
   "cell_type": "markdown",
   "metadata": {},
   "source": [
    "#### Uso series de tiempo\n",
    "\n",
    "La información temporal(de series de tiempo) permite responder cómo una variable (o más) responde a cambios a través del tiempo.\n",
    "- ¿Cuál es el efecto causal dinámico de Xt sobre Yt? \n",
    "- ¿Cuál es la mejor predicción del valor de Y en el futuro?\n",
    "  \n",
    "**PERO su uso sin cuidado puede llevarnos a conclusiones MUY equiviocadas**\n",
    "\n",
    "\n",
    "![Ejemplo idotamente peligroso](slide_figuras/spurius.png)\n",
    "\n",
    "\n",
    "(Fuente: [https://www.tylervigen.com/spurious-correlations](https://www.tylervigen.com/spurious-correlations))"
   ]
  },
  {
   "cell_type": "markdown",
   "metadata": {},
   "source": [
    "Trabajar con series de tiempo no es para nada sencillo: **necesitaremos técnicas nuevas.**\n",
    "\n",
    "¿Por qué? \n",
    "\n",
    "Necesitaremos modelos sofisticados de errores y técnicas para estimarlos, por ciertas dieferencias en la naturaleza del **proceso generador de datos**"
   ]
  },
  {
   "cell_type": "markdown",
   "metadata": {},
   "source": [
    "## Panel\n",
    "\n",
    "El último tipo de datos, es lo que se llama un panel. Este es la combinacion de los dos tipos anteriores, donde para un conjunto de individuos tenemos varias observaciones en el tiempo.\n",
    "\n",
    "Suele ser el tipo de datos más completo, pero tabien más dificil de conseguir. Además, enfrenta los problemas típicos de ambos tipos anteriores, dependiendo si es un panel corto o largo.\n",
    "\n",
    "Una alternativa a etsos son los llamados pooled cross section.\n",
    "\n",
    "Ela análisis de este tipo de datos escapa a los objetivos del taller, pero una introducción pueden revisarla en Stock y Watson Cap. 10.\n",
    "\n"
   ]
  },
  {
   "cell_type": "markdown",
   "metadata": {},
   "source": [
    "# Corte transversal vs series de tiempo\n",
    "\n",
    "## Muestras en corte transversal\n",
    "\n",
    "En corte transversal solemos trabajar con **MUESTRAS**\n",
    "\n",
    "![Corte transversal](slide_figuras/datos_ct.png)\n",
    "\n",
    "Estimamos modelos de la forma:\n",
    "$$ y_{i}=\\beta_{0}+\\beta_{1}x_{1i}+\\dots+\\beta_{1}x_{ki}+u_{i} $$\n",
    "\n",
    "Estos modelos representan una correlación marginal en las observaciones entre y y x's  (escalada por la varianza de x) y para que podamos interpretarlas causalmente tenemos varias condiciones o supuetsos que de sedeb cumplir.\n",
    "\n",
    "Uno de estos, es el **supuesto de exogeneidad**: $$  E[u_{i}|X_{i}]=0 $$\n",
    "\n",
    "Sin embargo, esta forma de ver este supuesto es una **simplificación** ya que, como estamos en una uestra aleatoria, no tenemos que verificar que los efectos cruzados tambien sean exogenos:\n",
    "\n",
    "$$  E[u_{i}|X_{j}]=0 $$\n",
    "\n",
    "* Esto se daba por cumplido, como consecuencia de que era una muestra aletaoria.\n",
    "* Lo cual, generalente, ocurre en corte transversal por lo cual cada observación es i.i.d.\n"
   ]
  },
  {
   "cell_type": "markdown",
   "metadata": {},
   "source": [
    "\n",
    "\n",
    "## La imposibilidad de la muestra en series de tiempo\n",
    "\n",
    "En serie de tiempo, nuestro universo es un proceso estocástico:\n",
    "\n",
    "![Corte transversal](slide_figuras/datos_st.png)\n",
    "\n",
    "Estimamos modelos de la forma:\n",
    "\n",
    "$$ y_{t}=\\beta_{0}+\\beta_{1}x_{1t}+\\dots+\\beta_{1}x_{kt}+u_{t} $$\n",
    "\n",
    "* Estamos en presencia de un **proceso estocástico** \n",
    "* En cada momento se observa un posible resultado (o realización) del proceso estocásticos.\n",
    "\n",
    "Esto tiene vaias implicancias:\n",
    "\n",
    "* NO SON INDEPENDIENTES ya que por construcción, viene del mismo proceso.\n",
    "* Por lo tanto, el supuesto de exogeneidad **$E[u_{i}|X_{i}]=0 $** NO ES SUFICIENTE\n",
    "* Requerimos su versión más exigente: (Exogeneidad estricta)\n",
    "$$E[u_{t}|X_{s}]=0 \\qquad \\forall s $$\n",
    "\n",
    "* Este supuesto, generalmente NO SE CUMPLE.\n",
    "* Si se cumpliese, seguiruíamos operando como siempre con modelos de regresión multiple estándar."
   ]
  },
  {
   "cell_type": "markdown",
   "metadata": {},
   "source": [
    "**¿Qué hacer entonces?**\n",
    "\n",
    "Reconocer los datos como procesos estocásticos e incluir sus particularidades en la modelación. De eso se tratarán los dos siguientes bloques\n",
    "- Bloque 2: Peculiaridades de los procesos estocasticos y su exploración en la data\n",
    "- Bloque 3: Modelamiento\n",
    "\n"
   ]
  },
  {
   "cell_type": "markdown",
   "metadata": {},
   "source": [
    "# Conceptos propios de las series de tiempo\n",
    "\n",
    "Dado que una serie de tiempo tiene un orden específico, que en si mismo es importante. En base a este orden se suelen crear nuevos indicadores o variables. Revisemos los más comunes:\n",
    "\n",
    "## Notación y transformaciones:\n",
    "\n",
    "**Notación**\n",
    "\n",
    "* Variables de series de tiempo se denominan con sub-índice t para indicar el perído en el tiempo:   $y_t$\n",
    "* El total de periodos se suele referir como T.\n",
    "\n",
    "### Rezagos \n",
    "\n",
    "* Un **rezago** es el valor de la variable en períodos anteriores:   \n",
    "  * Primer rezago: $y_{t-1}$ es el valor 1 período anterior\n",
    "  * Segundo rezago: $y_{t-2}$ es el valor 2 períodos atrás\n",
    "  * j-ésimo rezago:  $y_{t-j}$ es el valor j períodos atrás\n",
    "\n",
    "### Diferencias\n",
    "\n",
    "Una diferencia corresponde al cambio en una variable entre dos periodos específicos y se usa la notación $\\Delta$\n",
    "\n",
    "* Primera diferencia: $$\\Delta y_t = y_t- y_{t-1}$$\n",
    "\n",
    "### Tasas de crecimiento\n",
    "\n",
    "Si calculamos la primera diferencia el logaritmo natural, podemos obtener incorporar la tasa de crecimiento en una regresión:\n",
    "\n",
    "* Primera diferencia en logs:\n",
    "  $$ \\Delta ln(y_{t})=ln(y_{t})-ln(y_{t-1}) $$\n",
    "\n",
    "* Cambio porcentual de $y_t$  entre $t -1$ y $t\\approx  100\\times \\Delta ln(y_{t})$\n",
    "\n",
    "## Tipos de modelos\n",
    "\n",
    " ### Modelo estático \n",
    "\n",
    " Se modela la relación contemporánea entre dos variables, i.e., relación en el mismo momento en el tiempo\n",
    "\n",
    "$$y_{t}=\\beta_{0}+\\beta_{1}z_{t}+u_{t}$$\n",
    "\n",
    "Ejemplos:\n",
    "* Modelo Simple:\n",
    "$$ inflación_{t}=\\beta_{0}+\\beta_{1}desempleo_{t}+u_{t}$$\n",
    "\n",
    "* Modelo múltiple:\n",
    "$$ homicidio_{t}=\\beta_{0}+\\beta_{1}condena_{t}+\\beta_{2}desmepleo_{t}+\\beta_{3}hombres_{t}+u_{t} $$\n",
    "\n",
    " ### Modelo dinámico\n",
    "\n",
    " Se incluyen efectos temporales, que se piensan que tienen que ver con **tendencias**, **inercia** o **estacionalidades**\n",
    "\n",
    " $$ inflación_{t}=\\beta_{0}+\\beta_{1}desempleo_{t}+\\beta_{2} inflación_{t-1} +u_{t}$$"
   ]
  },
  {
   "cell_type": "markdown",
   "metadata": {},
   "source": [
    "# Pandas y series de tiempo\n",
    "\n",
    "* Pandas fue desarrollado originalmente para trabajar con datos financieros.\n",
    "* Como las series temporales son un tipo de datos comunes encontrados en aplicaiones de finanzas, naturalmente pandas tiene muy buen soporte para la mayoria de operaciones comunes.\n",
    "\n",
    "\n",
    "* `pd.to_datetime()` : conviere una serie o valor en un timestamp\n",
    "  * Este formato permite un mejor manejo de las series."
   ]
  },
  {
   "cell_type": "code",
   "execution_count": 61,
   "metadata": {},
   "outputs": [],
   "source": [
    "#pandas remote data access support for calls to the World Bank Indicators API\n",
    "from pandas_datareader import data, wb #instalar conda install pandas-datareader  o  pip installpandas-datareader"
   ]
  },
  {
   "cell_type": "code",
   "execution_count": 9,
   "metadata": {},
   "outputs": [
    {
     "data": {
      "text/html": [
       "<div>\n",
       "<style scoped>\n",
       "    .dataframe tbody tr th:only-of-type {\n",
       "        vertical-align: middle;\n",
       "    }\n",
       "\n",
       "    .dataframe tbody tr th {\n",
       "        vertical-align: top;\n",
       "    }\n",
       "\n",
       "    .dataframe thead th {\n",
       "        text-align: right;\n",
       "    }\n",
       "</style>\n",
       "<table border=\"1\" class=\"dataframe\">\n",
       "  <thead>\n",
       "    <tr style=\"text-align: right;\">\n",
       "      <th></th>\n",
       "      <th>id</th>\n",
       "      <th>name</th>\n",
       "      <th>unit</th>\n",
       "      <th>source</th>\n",
       "      <th>sourceNote</th>\n",
       "      <th>sourceOrganization</th>\n",
       "      <th>topics</th>\n",
       "    </tr>\n",
       "  </thead>\n",
       "  <tbody>\n",
       "    <tr>\n",
       "      <th>716</th>\n",
       "      <td>6.0.GDPpc_constant</td>\n",
       "      <td>GDP per capita, PPP (constant 2011 internation...</td>\n",
       "      <td></td>\n",
       "      <td>LAC Equity Lab</td>\n",
       "      <td>GDP per capita based on purchasing power parit...</td>\n",
       "      <td>b'World Development Indicators (World Bank)'</td>\n",
       "      <td>Economy &amp; Growth</td>\n",
       "    </tr>\n",
       "    <tr>\n",
       "      <th>10384</th>\n",
       "      <td>NY.GDP.PCAP.KD</td>\n",
       "      <td>GDP per capita (constant 2015 US$)</td>\n",
       "      <td></td>\n",
       "      <td>World Development Indicators</td>\n",
       "      <td>GDP per capita is gross domestic product divid...</td>\n",
       "      <td>b'World Bank national accounts data, and OECD ...</td>\n",
       "      <td>Economy &amp; Growth</td>\n",
       "    </tr>\n",
       "    <tr>\n",
       "      <th>10386</th>\n",
       "      <td>NY.GDP.PCAP.KN</td>\n",
       "      <td>GDP per capita (constant LCU)</td>\n",
       "      <td></td>\n",
       "      <td>World Development Indicators</td>\n",
       "      <td>GDP per capita is gross domestic product divid...</td>\n",
       "      <td>b'World Bank national accounts data, and OECD ...</td>\n",
       "      <td>Economy &amp; Growth</td>\n",
       "    </tr>\n",
       "    <tr>\n",
       "      <th>10388</th>\n",
       "      <td>NY.GDP.PCAP.PP.KD</td>\n",
       "      <td>GDP per capita, PPP (constant 2017 internation...</td>\n",
       "      <td></td>\n",
       "      <td>World Development Indicators</td>\n",
       "      <td>GDP per capita based on purchasing power parit...</td>\n",
       "      <td>b'International Comparison Program, World Bank...</td>\n",
       "      <td>Economy &amp; Growth</td>\n",
       "    </tr>\n",
       "    <tr>\n",
       "      <th>10389</th>\n",
       "      <td>NY.GDP.PCAP.PP.KD.87</td>\n",
       "      <td>GDP per capita, PPP (constant 1987 internation...</td>\n",
       "      <td></td>\n",
       "      <td>WDI Database Archives</td>\n",
       "      <td></td>\n",
       "      <td>b''</td>\n",
       "      <td></td>\n",
       "    </tr>\n",
       "  </tbody>\n",
       "</table>\n",
       "</div>"
      ],
      "text/plain": [
       "                         id  \\\n",
       "716      6.0.GDPpc_constant   \n",
       "10384        NY.GDP.PCAP.KD   \n",
       "10386        NY.GDP.PCAP.KN   \n",
       "10388     NY.GDP.PCAP.PP.KD   \n",
       "10389  NY.GDP.PCAP.PP.KD.87   \n",
       "\n",
       "                                                    name unit  \\\n",
       "716    GDP per capita, PPP (constant 2011 internation...        \n",
       "10384                 GDP per capita (constant 2015 US$)        \n",
       "10386                      GDP per capita (constant LCU)        \n",
       "10388  GDP per capita, PPP (constant 2017 internation...        \n",
       "10389  GDP per capita, PPP (constant 1987 internation...        \n",
       "\n",
       "                             source  \\\n",
       "716                  LAC Equity Lab   \n",
       "10384  World Development Indicators   \n",
       "10386  World Development Indicators   \n",
       "10388  World Development Indicators   \n",
       "10389         WDI Database Archives   \n",
       "\n",
       "                                              sourceNote  \\\n",
       "716    GDP per capita based on purchasing power parit...   \n",
       "10384  GDP per capita is gross domestic product divid...   \n",
       "10386  GDP per capita is gross domestic product divid...   \n",
       "10388  GDP per capita based on purchasing power parit...   \n",
       "10389                                                      \n",
       "\n",
       "                                      sourceOrganization            topics  \n",
       "716         b'World Development Indicators (World Bank)'  Economy & Growth  \n",
       "10384  b'World Bank national accounts data, and OECD ...  Economy & Growth  \n",
       "10386  b'World Bank national accounts data, and OECD ...  Economy & Growth  \n",
       "10388  b'International Comparison Program, World Bank...  Economy & Growth  \n",
       "10389                                                b''                    "
      ]
     },
     "execution_count": 9,
     "metadata": {},
     "output_type": "execute_result"
    }
   ],
   "source": [
    "#Revisemos que indicadores hay disponibles. En este caso revisare de PIB (GDP en ingés), pero se pueden explorar muchas más opciones.\n",
    "\n",
    "wb.search('gdp.*capita.*const')\n"
   ]
  },
  {
   "cell_type": "code",
   "execution_count": 62,
   "metadata": {},
   "outputs": [
    {
     "data": {
      "text/html": [
       "<div>\n",
       "<style scoped>\n",
       "    .dataframe tbody tr th:only-of-type {\n",
       "        vertical-align: middle;\n",
       "    }\n",
       "\n",
       "    .dataframe tbody tr th {\n",
       "        vertical-align: top;\n",
       "    }\n",
       "\n",
       "    .dataframe thead th {\n",
       "        text-align: right;\n",
       "    }\n",
       "</style>\n",
       "<table border=\"1\" class=\"dataframe\">\n",
       "  <thead>\n",
       "    <tr style=\"text-align: right;\">\n",
       "      <th></th>\n",
       "      <th>iso3c</th>\n",
       "      <th>iso2c</th>\n",
       "      <th>name</th>\n",
       "      <th>region</th>\n",
       "      <th>adminregion</th>\n",
       "      <th>incomeLevel</th>\n",
       "      <th>lendingType</th>\n",
       "      <th>capitalCity</th>\n",
       "      <th>longitude</th>\n",
       "      <th>latitude</th>\n",
       "    </tr>\n",
       "  </thead>\n",
       "  <tbody>\n",
       "    <tr>\n",
       "      <th>0</th>\n",
       "      <td>ABW</td>\n",
       "      <td>AW</td>\n",
       "      <td>Aruba</td>\n",
       "      <td>Latin America &amp; Caribbean</td>\n",
       "      <td></td>\n",
       "      <td>High income</td>\n",
       "      <td>Not classified</td>\n",
       "      <td>Oranjestad</td>\n",
       "      <td>-70.0167</td>\n",
       "      <td>12.5167</td>\n",
       "    </tr>\n",
       "    <tr>\n",
       "      <th>1</th>\n",
       "      <td>AFE</td>\n",
       "      <td>ZH</td>\n",
       "      <td>Africa Eastern and Southern</td>\n",
       "      <td>Aggregates</td>\n",
       "      <td></td>\n",
       "      <td>Aggregates</td>\n",
       "      <td>Aggregates</td>\n",
       "      <td></td>\n",
       "      <td>NaN</td>\n",
       "      <td>NaN</td>\n",
       "    </tr>\n",
       "    <tr>\n",
       "      <th>2</th>\n",
       "      <td>AFG</td>\n",
       "      <td>AF</td>\n",
       "      <td>Afghanistan</td>\n",
       "      <td>South Asia</td>\n",
       "      <td>South Asia</td>\n",
       "      <td>Low income</td>\n",
       "      <td>IDA</td>\n",
       "      <td>Kabul</td>\n",
       "      <td>69.1761</td>\n",
       "      <td>34.5228</td>\n",
       "    </tr>\n",
       "    <tr>\n",
       "      <th>3</th>\n",
       "      <td>AFR</td>\n",
       "      <td>A9</td>\n",
       "      <td>Africa</td>\n",
       "      <td>Aggregates</td>\n",
       "      <td></td>\n",
       "      <td>Aggregates</td>\n",
       "      <td>Aggregates</td>\n",
       "      <td></td>\n",
       "      <td>NaN</td>\n",
       "      <td>NaN</td>\n",
       "    </tr>\n",
       "    <tr>\n",
       "      <th>4</th>\n",
       "      <td>AFW</td>\n",
       "      <td>ZI</td>\n",
       "      <td>Africa Western and Central</td>\n",
       "      <td>Aggregates</td>\n",
       "      <td></td>\n",
       "      <td>Aggregates</td>\n",
       "      <td>Aggregates</td>\n",
       "      <td></td>\n",
       "      <td>NaN</td>\n",
       "      <td>NaN</td>\n",
       "    </tr>\n",
       "  </tbody>\n",
       "</table>\n",
       "</div>"
      ],
      "text/plain": [
       "  iso3c iso2c                         name                      region  \\\n",
       "0   ABW    AW                        Aruba  Latin America & Caribbean    \n",
       "1   AFE    ZH  Africa Eastern and Southern                  Aggregates   \n",
       "2   AFG    AF                  Afghanistan                  South Asia   \n",
       "3   AFR    A9                       Africa                  Aggregates   \n",
       "4   AFW    ZI   Africa Western and Central                  Aggregates   \n",
       "\n",
       "  adminregion  incomeLevel     lendingType capitalCity  longitude  latitude  \n",
       "0              High income  Not classified  Oranjestad   -70.0167   12.5167  \n",
       "1               Aggregates      Aggregates                    NaN       NaN  \n",
       "2  South Asia   Low income             IDA       Kabul    69.1761   34.5228  \n",
       "3               Aggregates      Aggregates                    NaN       NaN  \n",
       "4               Aggregates      Aggregates                    NaN       NaN  "
      ]
     },
     "execution_count": 62,
     "metadata": {},
     "output_type": "execute_result"
    }
   ],
   "source": [
    "# Obtengamos la lista de paises disponibles\n",
    "countries=wb.get_countries()\n",
    "\n",
    "#Preview primeras filas lista de paises\n",
    "countries[:5]"
   ]
  },
  {
   "cell_type": "code",
   "execution_count": 63,
   "metadata": {},
   "outputs": [
    {
     "data": {
      "text/html": [
       "<div>\n",
       "<style scoped>\n",
       "    .dataframe tbody tr th:only-of-type {\n",
       "        vertical-align: middle;\n",
       "    }\n",
       "\n",
       "    .dataframe tbody tr th {\n",
       "        vertical-align: top;\n",
       "    }\n",
       "\n",
       "    .dataframe thead th {\n",
       "        text-align: right;\n",
       "    }\n",
       "</style>\n",
       "<table border=\"1\" class=\"dataframe\">\n",
       "  <thead>\n",
       "    <tr style=\"text-align: right;\">\n",
       "      <th></th>\n",
       "      <th>iso3c</th>\n",
       "      <th>iso2c</th>\n",
       "      <th>name</th>\n",
       "      <th>region</th>\n",
       "      <th>adminregion</th>\n",
       "      <th>incomeLevel</th>\n",
       "      <th>lendingType</th>\n",
       "      <th>capitalCity</th>\n",
       "      <th>longitude</th>\n",
       "      <th>latitude</th>\n",
       "    </tr>\n",
       "  </thead>\n",
       "  <tbody>\n",
       "    <tr>\n",
       "      <th>49</th>\n",
       "      <td>CHL</td>\n",
       "      <td>CL</td>\n",
       "      <td>Chile</td>\n",
       "      <td>Latin America &amp; Caribbean</td>\n",
       "      <td></td>\n",
       "      <td>High income</td>\n",
       "      <td>IBRD</td>\n",
       "      <td>Santiago</td>\n",
       "      <td>-70.6475</td>\n",
       "      <td>-33.475</td>\n",
       "    </tr>\n",
       "  </tbody>\n",
       "</table>\n",
       "</div>"
      ],
      "text/plain": [
       "   iso3c iso2c   name                      region adminregion  incomeLevel  \\\n",
       "49   CHL    CL  Chile  Latin America & Caribbean               High income   \n",
       "\n",
       "   lendingType capitalCity  longitude  latitude  \n",
       "49        IBRD    Santiago   -70.6475   -33.475  "
      ]
     },
     "execution_count": 63,
     "metadata": {},
     "output_type": "execute_result"
    }
   ],
   "source": [
    "#sabemos que queremos Chile, asi que busquemos su info\n",
    "\n",
    "countries[ countries['name'] == 'Chile' ]\n"
   ]
  },
  {
   "cell_type": "code",
   "execution_count": 64,
   "metadata": {},
   "outputs": [
    {
     "data": {
      "text/html": [
       "<div>\n",
       "<style scoped>\n",
       "    .dataframe tbody tr th:only-of-type {\n",
       "        vertical-align: middle;\n",
       "    }\n",
       "\n",
       "    .dataframe tbody tr th {\n",
       "        vertical-align: top;\n",
       "    }\n",
       "\n",
       "    .dataframe thead th {\n",
       "        text-align: right;\n",
       "    }\n",
       "</style>\n",
       "<table border=\"1\" class=\"dataframe\">\n",
       "  <thead>\n",
       "    <tr style=\"text-align: right;\">\n",
       "      <th></th>\n",
       "      <th></th>\n",
       "      <th>NY.GDP.PCAP.KD</th>\n",
       "    </tr>\n",
       "    <tr>\n",
       "      <th>country</th>\n",
       "      <th>year</th>\n",
       "      <th></th>\n",
       "    </tr>\n",
       "  </thead>\n",
       "  <tbody>\n",
       "    <tr>\n",
       "      <th rowspan=\"10\" valign=\"top\">Chile</th>\n",
       "      <th>2020</th>\n",
       "      <td>12954.405354</td>\n",
       "    </tr>\n",
       "    <tr>\n",
       "      <th>2019</th>\n",
       "      <td>13866.955843</td>\n",
       "    </tr>\n",
       "    <tr>\n",
       "      <th>2018</th>\n",
       "      <td>13901.018309</td>\n",
       "    </tr>\n",
       "    <tr>\n",
       "      <th>2017</th>\n",
       "      <td>13590.991346</td>\n",
       "    </tr>\n",
       "    <tr>\n",
       "      <th>2016</th>\n",
       "      <td>13624.678549</td>\n",
       "    </tr>\n",
       "    <tr>\n",
       "      <th>2015</th>\n",
       "      <td>13574.169238</td>\n",
       "    </tr>\n",
       "    <tr>\n",
       "      <th>2014</th>\n",
       "      <td>13425.683275</td>\n",
       "    </tr>\n",
       "    <tr>\n",
       "      <th>2013</th>\n",
       "      <td>13333.346834</td>\n",
       "    </tr>\n",
       "    <tr>\n",
       "      <th>2012</th>\n",
       "      <td>12941.029999</td>\n",
       "    </tr>\n",
       "    <tr>\n",
       "      <th>2011</th>\n",
       "      <td>12406.413571</td>\n",
       "    </tr>\n",
       "  </tbody>\n",
       "</table>\n",
       "</div>"
      ],
      "text/plain": [
       "              NY.GDP.PCAP.KD\n",
       "country year                \n",
       "Chile   2020    12954.405354\n",
       "        2019    13866.955843\n",
       "        2018    13901.018309\n",
       "        2017    13590.991346\n",
       "        2016    13624.678549\n",
       "        2015    13574.169238\n",
       "        2014    13425.683275\n",
       "        2013    13333.346834\n",
       "        2012    12941.029999\n",
       "        2011    12406.413571"
      ]
     },
     "execution_count": 64,
     "metadata": {},
     "output_type": "execute_result"
    }
   ],
   "source": [
    "# Descarguemos la data desde la API del banco muncial a un dataframe\n",
    "\n",
    "df_GPDpc_Chile = wb.download(\n",
    "                    #Use the indicator attribute to identify which indicator or indicators to download\n",
    "                    indicator='NY.GDP.PCAP.KD',\n",
    "                    #Use the country attribute to identify the countries you want data for\n",
    "                    country=['CL'],\n",
    "                    #Identify the first year for which you want the data, as an integer or a string\n",
    "                    start='1980',\n",
    "                    #Identify the last year for which you want the data, as an integer or a string\n",
    "                    end=2020,\n",
    "                )\n",
    "\n",
    "#Veamos el data frame\n",
    "df_GPDpc_Chile.head(10)"
   ]
  },
  {
   "cell_type": "code",
   "execution_count": 12,
   "metadata": {},
   "outputs": [
    {
     "data": {
      "text/html": [
       "<div>\n",
       "<style scoped>\n",
       "    .dataframe tbody tr th:only-of-type {\n",
       "        vertical-align: middle;\n",
       "    }\n",
       "\n",
       "    .dataframe tbody tr th {\n",
       "        vertical-align: top;\n",
       "    }\n",
       "\n",
       "    .dataframe thead th {\n",
       "        text-align: right;\n",
       "    }\n",
       "</style>\n",
       "<table border=\"1\" class=\"dataframe\">\n",
       "  <thead>\n",
       "    <tr style=\"text-align: right;\">\n",
       "      <th></th>\n",
       "      <th></th>\n",
       "      <th>NY.GDP.PCAP.PP.KD</th>\n",
       "      <th>NY.GDP.PCAP.KD</th>\n",
       "    </tr>\n",
       "    <tr>\n",
       "      <th>country</th>\n",
       "      <th>year</th>\n",
       "      <th></th>\n",
       "      <th></th>\n",
       "    </tr>\n",
       "  </thead>\n",
       "  <tbody>\n",
       "    <tr>\n",
       "      <th rowspan=\"3\" valign=\"top\">Chile</th>\n",
       "      <th>2010</th>\n",
       "      <td>21262.466986</td>\n",
       "      <td>11809.141627</td>\n",
       "    </tr>\n",
       "    <tr>\n",
       "      <th>2009</th>\n",
       "      <td>20298.250925</td>\n",
       "      <td>11273.617502</td>\n",
       "    </tr>\n",
       "    <tr>\n",
       "      <th>2008</th>\n",
       "      <td>20840.404214</td>\n",
       "      <td>11574.728609</td>\n",
       "    </tr>\n",
       "  </tbody>\n",
       "</table>\n",
       "</div>"
      ],
      "text/plain": [
       "              NY.GDP.PCAP.PP.KD  NY.GDP.PCAP.KD\n",
       "country year                                   \n",
       "Chile   2010       21262.466986    11809.141627\n",
       "        2009       20298.250925    11273.617502\n",
       "        2008       20840.404214    11574.728609"
      ]
     },
     "execution_count": 12,
     "metadata": {},
     "output_type": "execute_result"
    }
   ],
   "source": [
    "wb.download( indicator=['NY.GDP.PCAP.PP.KD','NY.GDP.PCAP.KD'], country=['CL'], start=2008, end=2010 )"
   ]
  },
  {
   "cell_type": "code",
   "execution_count": 13,
   "metadata": {},
   "outputs": [
    {
     "data": {
      "text/plain": [
       "<AxesSubplot:xlabel='year', ylabel='NY.GDP.PCAP.KD'>"
      ]
     },
     "execution_count": 13,
     "metadata": {},
     "output_type": "execute_result"
    },
    {
     "data": {
      "image/png": "[encoded data removed]",
      "text/plain": [
       "<Figure size 432x288 with 1 Axes>"
      ]
     },
     "metadata": {
      "needs_background": "light"
     },
     "output_type": "display_data"
    }
   ],
   "source": [
    "sns.scatterplot(data=df_GPDpc_Chile, x=\"year\", y=\"NY.GDP.PCAP.KD\")"
   ]
  },
  {
   "cell_type": "code",
   "execution_count": 14,
   "metadata": {},
   "outputs": [
    {
     "data": {
      "image/png": "[encoded data removed]",
      "text/plain": [
       "<Figure size 432x288 with 1 Axes>"
      ]
     },
     "metadata": {
      "needs_background": "light"
     },
     "output_type": "display_data"
    }
   ],
   "source": [
    "ax = df_GPDpc_Chile.plot(legend=True)"
   ]
  },
  {
   "cell_type": "markdown",
   "metadata": {},
   "source": [
    "# Ejemplos\n",
    "\n",
    "## 1. PIB de EEUU\n",
    "\n",
    "Empecemos con un ejemplo muy clásico de series de tiempo, con datos del PIB de Estados Unidos"
   ]
  },
  {
   "cell_type": "code",
   "execution_count": 65,
   "metadata": {},
   "outputs": [
    {
     "name": "stdout",
     "output_type": "stream",
     "text": [
      "<class 'pandas.core.frame.DataFrame'>\n",
      "RangeIndex: 290 entries, 0 to 289\n",
      "Data columns (total 2 columns):\n",
      " #   Column  Non-Null Count  Dtype         \n",
      "---  ------  --------------  -----         \n",
      " 0   DATE    290 non-null    datetime64[ns]\n",
      " 1   GDP     290 non-null    float64       \n",
      "dtypes: datetime64[ns](1), float64(1)\n",
      "memory usage: 4.7 KB\n"
     ]
    }
   ],
   "source": [
    "GDP = pd.read_csv('data/GDP.csv', parse_dates=['DATE'])\n",
    "GDP.info()"
   ]
  },
  {
   "cell_type": "code",
   "execution_count": 66,
   "metadata": {},
   "outputs": [
    {
     "name": "stdout",
     "output_type": "stream",
     "text": [
      "<class 'pandas.core.frame.DataFrame'>\n",
      "DatetimeIndex: 290 entries, 1947-01-01 to 2019-04-01\n",
      "Data columns (total 1 columns):\n",
      " #   Column  Non-Null Count  Dtype  \n",
      "---  ------  --------------  -----  \n",
      " 0   GDP     290 non-null    float64\n",
      "dtypes: float64(1)\n",
      "memory usage: 4.5 KB\n"
     ]
    }
   ],
   "source": [
    "GDP.set_index('DATE', inplace=True)\n",
    "GDP.info()"
   ]
  },
  {
   "cell_type": "code",
   "execution_count": 67,
   "metadata": {},
   "outputs": [
    {
     "data": {
      "text/html": [
       "<div>\n",
       "<style scoped>\n",
       "    .dataframe tbody tr th:only-of-type {\n",
       "        vertical-align: middle;\n",
       "    }\n",
       "\n",
       "    .dataframe tbody tr th {\n",
       "        vertical-align: top;\n",
       "    }\n",
       "\n",
       "    .dataframe thead th {\n",
       "        text-align: right;\n",
       "    }\n",
       "</style>\n",
       "<table border=\"1\" class=\"dataframe\">\n",
       "  <thead>\n",
       "    <tr style=\"text-align: right;\">\n",
       "      <th></th>\n",
       "      <th>GDP</th>\n",
       "    </tr>\n",
       "    <tr>\n",
       "      <th>DATE</th>\n",
       "      <th></th>\n",
       "    </tr>\n",
       "  </thead>\n",
       "  <tbody>\n",
       "    <tr>\n",
       "      <th>1947-01-01</th>\n",
       "      <td>2033.061</td>\n",
       "    </tr>\n",
       "    <tr>\n",
       "      <th>1947-04-01</th>\n",
       "      <td>2027.639</td>\n",
       "    </tr>\n",
       "    <tr>\n",
       "      <th>1947-07-01</th>\n",
       "      <td>2023.452</td>\n",
       "    </tr>\n",
       "    <tr>\n",
       "      <th>1947-10-01</th>\n",
       "      <td>2055.103</td>\n",
       "    </tr>\n",
       "    <tr>\n",
       "      <th>1948-01-01</th>\n",
       "      <td>2086.017</td>\n",
       "    </tr>\n",
       "  </tbody>\n",
       "</table>\n",
       "</div>"
      ],
      "text/plain": [
       "                 GDP\n",
       "DATE                \n",
       "1947-01-01  2033.061\n",
       "1947-04-01  2027.639\n",
       "1947-07-01  2023.452\n",
       "1947-10-01  2055.103\n",
       "1948-01-01  2086.017"
      ]
     },
     "execution_count": 67,
     "metadata": {},
     "output_type": "execute_result"
    }
   ],
   "source": [
    "GDP.head()"
   ]
  },
  {
   "cell_type": "code",
   "execution_count": 68,
   "metadata": {},
   "outputs": [
    {
     "data": {
      "text/plain": [
       "Text(0, 0.5, 'GDP ($\\\\$B$)')"
      ]
     },
     "execution_count": 68,
     "metadata": {},
     "output_type": "execute_result"
    },
    {
     "data": {
      "image/png": "[encoded data removed]",
      "text/plain": [
       "<Figure size 432x288 with 1 Axes>"
      ]
     },
     "metadata": {
      "needs_background": "light"
     },
     "output_type": "display_data"
    }
   ],
   "source": [
    "ax = GDP['1980':].plot(legend=False)\n",
    "ax.set_ylabel(r'GDP ($\\$B$)')"
   ]
  },
  {
   "cell_type": "markdown",
   "metadata": {},
   "source": [
    "Observamos claramente una **tendencia** al alza."
   ]
  },
  {
   "cell_type": "markdown",
   "metadata": {},
   "source": [
    "## 2. Mortalidad por influenza\n",
    "\n",
    "Vemos un segundo ejemplo "
   ]
  },
  {
   "cell_type": "code",
   "execution_count": 19,
   "metadata": {},
   "outputs": [
    {
     "data": {
      "text/html": [
       "<div>\n",
       "<style scoped>\n",
       "    .dataframe tbody tr th:only-of-type {\n",
       "        vertical-align: middle;\n",
       "    }\n",
       "\n",
       "    .dataframe tbody tr th {\n",
       "        vertical-align: top;\n",
       "    }\n",
       "\n",
       "    .dataframe thead th {\n",
       "        text-align: right;\n",
       "    }\n",
       "</style>\n",
       "<table border=\"1\" class=\"dataframe\">\n",
       "  <thead>\n",
       "    <tr style=\"text-align: right;\">\n",
       "      <th></th>\n",
       "      <th>Year</th>\n",
       "      <th>Week</th>\n",
       "      <th>Percent of Deaths Due to Pneumonia and Influenza</th>\n",
       "      <th>Expected</th>\n",
       "      <th>Threshold</th>\n",
       "      <th>All Deaths</th>\n",
       "      <th>Pneumonia Deaths</th>\n",
       "      <th>Influenza Deaths</th>\n",
       "    </tr>\n",
       "  </thead>\n",
       "  <tbody>\n",
       "    <tr>\n",
       "      <th>0</th>\n",
       "      <td>2012</td>\n",
       "      <td>1</td>\n",
       "      <td>8.479120</td>\n",
       "      <td>8.15718</td>\n",
       "      <td>8.49104</td>\n",
       "      <td>51102</td>\n",
       "      <td>4323</td>\n",
       "      <td>10</td>\n",
       "    </tr>\n",
       "    <tr>\n",
       "      <th>1</th>\n",
       "      <td>2012</td>\n",
       "      <td>2</td>\n",
       "      <td>8.343472</td>\n",
       "      <td>8.22181</td>\n",
       "      <td>8.55556</td>\n",
       "      <td>50962</td>\n",
       "      <td>4245</td>\n",
       "      <td>7</td>\n",
       "    </tr>\n",
       "    <tr>\n",
       "      <th>2</th>\n",
       "      <td>2012</td>\n",
       "      <td>3</td>\n",
       "      <td>8.370908</td>\n",
       "      <td>8.27534</td>\n",
       "      <td>8.60898</td>\n",
       "      <td>51010</td>\n",
       "      <td>4261</td>\n",
       "      <td>9</td>\n",
       "    </tr>\n",
       "    <tr>\n",
       "      <th>3</th>\n",
       "      <td>2012</td>\n",
       "      <td>4</td>\n",
       "      <td>8.448458</td>\n",
       "      <td>8.31696</td>\n",
       "      <td>8.65049</td>\n",
       "      <td>50163</td>\n",
       "      <td>4227</td>\n",
       "      <td>11</td>\n",
       "    </tr>\n",
       "    <tr>\n",
       "      <th>4</th>\n",
       "      <td>2012</td>\n",
       "      <td>5</td>\n",
       "      <td>8.140332</td>\n",
       "      <td>8.34602</td>\n",
       "      <td>8.67945</td>\n",
       "      <td>49568</td>\n",
       "      <td>4026</td>\n",
       "      <td>9</td>\n",
       "    </tr>\n",
       "  </tbody>\n",
       "</table>\n",
       "</div>"
      ],
      "text/plain": [
       "   Year  Week  Percent of Deaths Due to Pneumonia and Influenza  Expected  \\\n",
       "0  2012     1                                          8.479120   8.15718   \n",
       "1  2012     2                                          8.343472   8.22181   \n",
       "2  2012     3                                          8.370908   8.27534   \n",
       "3  2012     4                                          8.448458   8.31696   \n",
       "4  2012     5                                          8.140332   8.34602   \n",
       "\n",
       "   Threshold  All Deaths  Pneumonia Deaths  Influenza Deaths  \n",
       "0    8.49104       51102              4323                10  \n",
       "1    8.55556       50962              4245                 7  \n",
       "2    8.60898       51010              4261                 9  \n",
       "3    8.65049       50163              4227                11  \n",
       "4    8.67945       49568              4026                 9  "
      ]
     },
     "execution_count": 19,
     "metadata": {},
     "output_type": "execute_result"
    }
   ],
   "source": [
    "ILI = pd.read_csv('data/CDC.csv')\n",
    "ILI.head()"
   ]
  },
  {
   "cell_type": "code",
   "execution_count": 20,
   "metadata": {},
   "outputs": [
    {
     "data": {
      "text/html": [
       "<div>\n",
       "<style scoped>\n",
       "    .dataframe tbody tr th:only-of-type {\n",
       "        vertical-align: middle;\n",
       "    }\n",
       "\n",
       "    .dataframe tbody tr th {\n",
       "        vertical-align: top;\n",
       "    }\n",
       "\n",
       "    .dataframe thead th {\n",
       "        text-align: right;\n",
       "    }\n",
       "</style>\n",
       "<table border=\"1\" class=\"dataframe\">\n",
       "  <thead>\n",
       "    <tr style=\"text-align: right;\">\n",
       "      <th></th>\n",
       "      <th>Year</th>\n",
       "      <th>Week</th>\n",
       "      <th>Percent of Deaths Due to Pneumonia and Influenza</th>\n",
       "      <th>Expected</th>\n",
       "      <th>Threshold</th>\n",
       "      <th>All Deaths</th>\n",
       "      <th>Pneumonia Deaths</th>\n",
       "      <th>Influenza Deaths</th>\n",
       "      <th>date</th>\n",
       "    </tr>\n",
       "  </thead>\n",
       "  <tbody>\n",
       "    <tr>\n",
       "      <th>0</th>\n",
       "      <td>2012</td>\n",
       "      <td>1</td>\n",
       "      <td>8.479120</td>\n",
       "      <td>8.15718</td>\n",
       "      <td>8.49104</td>\n",
       "      <td>51102</td>\n",
       "      <td>4323</td>\n",
       "      <td>10</td>\n",
       "      <td>2012.019231</td>\n",
       "    </tr>\n",
       "    <tr>\n",
       "      <th>1</th>\n",
       "      <td>2012</td>\n",
       "      <td>2</td>\n",
       "      <td>8.343472</td>\n",
       "      <td>8.22181</td>\n",
       "      <td>8.55556</td>\n",
       "      <td>50962</td>\n",
       "      <td>4245</td>\n",
       "      <td>7</td>\n",
       "      <td>2012.038462</td>\n",
       "    </tr>\n",
       "    <tr>\n",
       "      <th>2</th>\n",
       "      <td>2012</td>\n",
       "      <td>3</td>\n",
       "      <td>8.370908</td>\n",
       "      <td>8.27534</td>\n",
       "      <td>8.60898</td>\n",
       "      <td>51010</td>\n",
       "      <td>4261</td>\n",
       "      <td>9</td>\n",
       "      <td>2012.057692</td>\n",
       "    </tr>\n",
       "    <tr>\n",
       "      <th>3</th>\n",
       "      <td>2012</td>\n",
       "      <td>4</td>\n",
       "      <td>8.448458</td>\n",
       "      <td>8.31696</td>\n",
       "      <td>8.65049</td>\n",
       "      <td>50163</td>\n",
       "      <td>4227</td>\n",
       "      <td>11</td>\n",
       "      <td>2012.076923</td>\n",
       "    </tr>\n",
       "    <tr>\n",
       "      <th>4</th>\n",
       "      <td>2012</td>\n",
       "      <td>5</td>\n",
       "      <td>8.140332</td>\n",
       "      <td>8.34602</td>\n",
       "      <td>8.67945</td>\n",
       "      <td>49568</td>\n",
       "      <td>4026</td>\n",
       "      <td>9</td>\n",
       "      <td>2012.096154</td>\n",
       "    </tr>\n",
       "  </tbody>\n",
       "</table>\n",
       "</div>"
      ],
      "text/plain": [
       "   Year  Week  Percent of Deaths Due to Pneumonia and Influenza  Expected  \\\n",
       "0  2012     1                                          8.479120   8.15718   \n",
       "1  2012     2                                          8.343472   8.22181   \n",
       "2  2012     3                                          8.370908   8.27534   \n",
       "3  2012     4                                          8.448458   8.31696   \n",
       "4  2012     5                                          8.140332   8.34602   \n",
       "\n",
       "   Threshold  All Deaths  Pneumonia Deaths  Influenza Deaths         date  \n",
       "0    8.49104       51102              4323                10  2012.019231  \n",
       "1    8.55556       50962              4245                 7  2012.038462  \n",
       "2    8.60898       51010              4261                 9  2012.057692  \n",
       "3    8.65049       50163              4227                11  2012.076923  \n",
       "4    8.67945       49568              4026                 9  2012.096154  "
      ]
     },
     "execution_count": 20,
     "metadata": {},
     "output_type": "execute_result"
    }
   ],
   "source": [
    "ILI['date'] = ILI['Year']+ILI['Week']/52.\n",
    "ILI.head()"
   ]
  },
  {
   "cell_type": "code",
   "execution_count": 21,
   "metadata": {},
   "outputs": [
    {
     "data": {
      "text/plain": [
       "Text(0, 0.5, '% Mortality')"
      ]
     },
     "execution_count": 21,
     "metadata": {},
     "output_type": "execute_result"
    },
    {
     "data": {
      "image/png": "[encoded data removed]",
      "text/plain": [
       "<Figure size 432x288 with 1 Axes>"
      ]
     },
     "metadata": {
      "needs_background": "light"
     },
     "output_type": "display_data"
    }
   ],
   "source": [
    "ILI.plot(x='date', y=['Percent of Deaths Due to Pneumonia and Influenza', 'Expected', 'Threshold'])\n",
    "ax = plt.gca()\n",
    "ax.legend(['Mortality', 'Expected', 'Threshold'])\n",
    "ax.set_xlabel('Date')\n",
    "ax.set_ylabel('% Mortality')"
   ]
  },
  {
   "cell_type": "markdown",
   "metadata": {},
   "source": [
    "El comportamiento es muy diferente, podemos ver una **estacionalidad**.\n",
    "\n",
    "Es decir hay un cambio periodico asociado al tiempo de la variable."
   ]
  },
  {
   "cell_type": "markdown",
   "metadata": {},
   "source": [
    "# Transformaciones\n",
    "\n",
    "En base a estos conceptos, entonces, es muy comun realizar transformaciones a las series de tiempo ya sea para obtener rezagos, diferencias, tasas de crecimiento, etc.\n",
    "Ilustraremos varios de estos, con el dataset del DOw-Jonses indsutrial Average.\n"
   ]
  },
  {
   "cell_type": "code",
   "execution_count": 22,
   "metadata": {},
   "outputs": [
    {
     "data": {
      "text/plain": [
       "Text(0.5, 0, 'Date')"
      ]
     },
     "execution_count": 22,
     "metadata": {},
     "output_type": "execute_result"
    },
    {
     "data": {
      "image/png": "[encoded data removed]",
      "text/plain": [
       "<Figure size 432x288 with 1 Axes>"
      ]
     },
     "metadata": {
      "needs_background": "light"
     },
     "output_type": "display_data"
    }
   ],
   "source": [
    "DJIA = pd.read_csv('data/DJIA.csv', parse_dates=['DATE'], na_values='.').dropna()\n",
    "DJIA.plot(x='DATE', legend=False)\n",
    "ax = plt.gca()\n",
    "ax.set_ylabel('DJIA')\n",
    "ax.set_xlabel('Date')"
   ]
  },
  {
   "cell_type": "markdown",
   "metadata": {},
   "source": [
    "\n",
    "\n",
    "## Diferencias\n",
    "\n",
    "Una manera de remover tendencias de un dataset es diferenciandolo. Como nuestros datasets son discretos, usaremos diferencias finitas."
   ]
  },
  {
   "cell_type": "code",
   "execution_count": 23,
   "metadata": {},
   "outputs": [],
   "source": [
    "def differentiate(values, d=1):\n",
    "    # First value is required so that we can recover the original values with np.cumsum\n",
    "    x = np.concatenate([[values[0]], values[1:]-values[:-1]])\n",
    "\n",
    "    if d == 1:\n",
    "        return x\n",
    "    else:    \n",
    "        return difference(x, d - 1)"
   ]
  },
  {
   "cell_type": "code",
   "execution_count": 24,
   "metadata": {},
   "outputs": [],
   "source": [
    "values = DJIA['DJIA'].values\n",
    "differences = differentiate(values)"
   ]
  },
  {
   "cell_type": "markdown",
   "metadata": {},
   "source": [
    "Como podemos ver, el grafico se ve mucho más estacionario."
   ]
  },
  {
   "cell_type": "code",
   "execution_count": 25,
   "metadata": {},
   "outputs": [
    {
     "data": {
      "text/plain": [
       "Text(0, 0.5, 'Differences')"
      ]
     },
     "execution_count": 25,
     "metadata": {},
     "output_type": "execute_result"
    },
    {
     "data": {
      "image/png": "[encoded data removed]",
      "text/plain": [
       "<Figure size 432x288 with 1 Axes>"
      ]
     },
     "metadata": {
      "needs_background": "light"
     },
     "output_type": "display_data"
    }
   ],
   "source": [
    "plt.plot(DJIA['DATE'].iloc[1:], differences[1:])\n",
    "plt.xlabel('Date')\n",
    "plt.ylabel('Differences')"
   ]
  },
  {
   "cell_type": "markdown",
   "metadata": {},
   "source": [
    "Para recuperar la data original, basta con integrar los puntos diferenciados. "
   ]
  },
  {
   "cell_type": "code",
   "execution_count": 69,
   "metadata": {},
   "outputs": [],
   "source": [
    "def integrate(values, d=1):\n",
    "    x = np.cumsum(values)\n",
    "    \n",
    "    if d == 1:\n",
    "        return x\n",
    "    else:\n",
    "        return integrate(x, d-1)"
   ]
  },
  {
   "cell_type": "code",
   "execution_count": 27,
   "metadata": {},
   "outputs": [],
   "source": [
    "rebuilt = integrate(differences)"
   ]
  },
  {
   "cell_type": "markdown",
   "metadata": {},
   "source": [
    "Y un chequeo rapido para ver que son los mismos valores"
   ]
  },
  {
   "cell_type": "code",
   "execution_count": 28,
   "metadata": {},
   "outputs": [
    {
     "data": {
      "text/plain": [
       "0.0"
      ]
     },
     "execution_count": 28,
     "metadata": {},
     "output_type": "execute_result"
    }
   ],
   "source": [
    "np.mean(rebuilt-values)"
   ]
  },
  {
   "cell_type": "markdown",
   "metadata": {},
   "source": [
    "## Windowing\n",
    "\n",
    "Muchas veces queremos calcular variables de cuerta cantidad en una ventana de datos.\n"
   ]
  },
  {
   "cell_type": "code",
   "execution_count": 29,
   "metadata": {},
   "outputs": [],
   "source": [
    "def rolling(x, order):\n",
    "    npoints = x.shape[0]\n",
    "    running = []\n",
    "    \n",
    "    for i in range(npoints-order+1):\n",
    "        running.append(x[i:i+order])\n",
    "        \n",
    "    return np.array(running)\n"
   ]
  },
  {
   "cell_type": "code",
   "execution_count": 31,
   "metadata": {},
   "outputs": [
    {
     "data": {
      "text/plain": [
       "array([[ 0,  1,  2,  3,  4,  5],\n",
       "       [ 1,  2,  3,  4,  5,  6],\n",
       "       [ 2,  3,  4,  5,  6,  7],\n",
       "       [ 3,  4,  5,  6,  7,  8],\n",
       "       [ 4,  5,  6,  7,  8,  9],\n",
       "       [ 5,  6,  7,  8,  9, 10]])"
      ]
     },
     "execution_count": 31,
     "metadata": {},
     "output_type": "execute_result"
    }
   ],
   "source": [
    "#And a simple example\n",
    "values = np.arange(11)\n",
    "values\n",
    "rolling(values, 6)\n"
   ]
  },
  {
   "cell_type": "markdown",
   "metadata": {},
   "source": [
    "\n",
    "Como tenemos un array con todas las ventanas, esto facilita el calculo de medias moviles o otras variables que requieran calculo iterativo en ciertos intervalos."
   ]
  },
  {
   "cell_type": "code",
   "execution_count": 33,
   "metadata": {},
   "outputs": [
    {
     "data": {
      "text/plain": [
       "array([0.5, 1.5, 2.5, 3.5, 4.5, 5.5, 6.5, 7.5, 8.5, 9.5])"
      ]
     },
     "execution_count": 33,
     "metadata": {},
     "output_type": "execute_result"
    }
   ],
   "source": [
    "\n",
    "rolling(values, 2)\n",
    "rolling(values, 2).mean(axis=1)\n"
   ]
  },
  {
   "cell_type": "code",
   "execution_count": 34,
   "metadata": {},
   "outputs": [
    {
     "data": {
      "text/plain": [
       "array([ 1,  2,  3,  4,  5,  6,  7,  8,  9, 10])"
      ]
     },
     "execution_count": 34,
     "metadata": {},
     "output_type": "execute_result"
    }
   ],
   "source": [
    "#Or the running maximum, etc.\n",
    "\n",
    "rolling(values, 2).max(axis=1)"
   ]
  },
  {
   "cell_type": "markdown",
   "metadata": {},
   "source": [
    "## Exponential Smoothing\n",
    "Another form of smoothing a noise time series is called exponential smoothing. This is equivalent to an exponentially weighted running average where past values get exponentially reduced.\n"
   ]
  },
  {
   "cell_type": "code",
   "execution_count": 35,
   "metadata": {},
   "outputs": [],
   "source": [
    "\n",
    "def ES(values, alpha= 0.05):\n",
    "    N = len(values)\n",
    "    S = [values[0]*alpha]\n",
    "    \n",
    "    for i in range(1, N):\n",
    "        S.append(alpha*values[i]+(1-alpha)*S[-1])\n",
    "        \n",
    "    return np.array(S)\n"
   ]
  },
  {
   "cell_type": "markdown",
   "metadata": {},
   "source": [
    "Podemos ver rapidamente, que mientras menor es el valor del alpha, menos ruidosa (o más suave) es el resultado."
   ]
  },
  {
   "cell_type": "code",
   "execution_count": 70,
   "metadata": {},
   "outputs": [
    {
     "data": {
      "text/plain": [
       "<matplotlib.legend.Legend at 0x7fa4f922cac0>"
      ]
     },
     "execution_count": 70,
     "metadata": {},
     "output_type": "execute_result"
    },
    {
     "data": {
      "image/png": "[encoded data removed]",
      "text/plain": [
       "<Figure size 432x288 with 1 Axes>"
      ]
     },
     "metadata": {
      "needs_background": "light"
     },
     "output_type": "display_data"
    }
   ],
   "source": [
    "\n",
    "smooth = []\n",
    "smooth.append(ES(differences[1:], 0.01))\n",
    "smooth.append(ES(differences[1:], 0.1))\n",
    "smooth.append(ES(differences[1:], 0.5))\n",
    "plt.plot(DJIA['DATE'].iloc[1:100], differences[1:100], label='Differences')\n",
    "plt.plot(DJIA['DATE'].iloc[1:100], smooth[2][:99], label=r'$\\alpha=0.5$')\n",
    "plt.plot(DJIA['DATE'].iloc[1:100], smooth[1][:99], label=r'$\\alpha=0.1$')\n",
    "plt.plot(DJIA['DATE'].iloc[1:100], smooth[0][:99], label=r'$\\alpha=0.01$')\n",
    "plt.xlabel('Date')\n",
    "plt.ylabel('Differences')\n",
    "plt.legend()"
   ]
  },
  {
   "cell_type": "markdown",
   "metadata": {},
   "source": [
    "## Missing Data\n",
    "\n",
    "Desafortunadamente, los datos no siempre están limpios o completos, lo que nos obliga a lidiar datos faltantes. Aquí ilustramos varios enfoques para introducir valores perdidos. Comenzamos generando un conjunto de datos con valores perdidos.\n"
   ]
  },
  {
   "cell_type": "code",
   "execution_count": 38,
   "metadata": {},
   "outputs": [],
   "source": [
    "x = np.linspace(-np.pi, np.pi, 100)\n",
    "y = np.cos(x)\n",
    "y_missing = y.copy()\n",
    "y_missing[40:55] = np.nan\n"
   ]
  },
  {
   "cell_type": "markdown",
   "metadata": {},
   "source": [
    "This is simply a cosine function with a few missing values at the peak.\n"
   ]
  },
  {
   "cell_type": "code",
   "execution_count": 39,
   "metadata": {},
   "outputs": [
    {
     "data": {
      "text/plain": [
       "[<matplotlib.lines.Line2D at 0x7fa509eed1f0>]"
      ]
     },
     "execution_count": 39,
     "metadata": {},
     "output_type": "execute_result"
    },
    {
     "data": {
      "image/png": "[encoded data removed]",
      "text/plain": [
       "<Figure size 432x288 with 1 Axes>"
      ]
     },
     "metadata": {
      "needs_background": "light"
     },
     "output_type": "display_data"
    }
   ],
   "source": [
    "plt.plot(x, y, '*')\n",
    "plt.plot(x, y_missing)"
   ]
  },
  {
   "cell_type": "markdown",
   "metadata": {},
   "source": [
    "\n",
    "Quizás la estrategia más común es simplemente mantener el último valor 'bueno' conocido y usarlo para completar los puntos de datos faltantes. Este enfoque no puede lidiar con los valores faltantes al comienzo del conjunto de datos. \n"
   ]
  },
  {
   "cell_type": "code",
   "execution_count": 40,
   "metadata": {},
   "outputs": [],
   "source": [
    "def ffill(y):\n",
    "    y0 = y.copy()\n",
    "    N = len(y0)\n",
    "    \n",
    "    current = None\n",
    "    for i in range(1, N):\n",
    "        if np.isnan(y0[i]):\n",
    "            y0[i] = current\n",
    "        else:\n",
    "            current = y0[i]\n",
    "    \n",
    "    return y0"
   ]
  },
  {
   "cell_type": "markdown",
   "metadata": {},
   "source": [
    "\n",
    "Naturalmente, el enfoque opuesto también es común cuando usamos el siguiente valor bueno. De esta manera podemos manejar fácilmente los valores perdidos iniciales, pero no podemos hacer nada con los valores perdidos al final de la serie de tiempo.\n",
    "\n"
   ]
  },
  {
   "cell_type": "code",
   "execution_count": 41,
   "metadata": {},
   "outputs": [],
   "source": [
    "\n",
    "def bfill(y):\n",
    "    y0 = y.copy()\n",
    "    N = len(y0)\n",
    "    \n",
    "    current = None\n",
    "    for i in range(N-1, 0, -1):\n",
    "        if np.isnan(y0[i]):\n",
    "            y0[i] = current\n",
    "        else:\n",
    "            current = y0[i]\n",
    "    \n",
    "    return y0"
   ]
  },
  {
   "cell_type": "markdown",
   "metadata": {},
   "source": [
    "\n",
    "Back-fill y Forward-fill son enfoques simples pero poderosos para lidiar con los datos faltantes. Sin embargo, a menudo queremos tener más cuidado con el valor que atribuimos. Un enfoque común es interpolar entre el valor anterior y el siguiente y conectarlos con una línea recta.\n",
    "\n"
   ]
  },
  {
   "cell_type": "code",
   "execution_count": 42,
   "metadata": {},
   "outputs": [],
   "source": [
    "def interpolate(y):\n",
    "    y0 = y.copy()\n",
    "    N = len(y0)\n",
    "    \n",
    "    pos = 0\n",
    "    while pos < N:\n",
    "        if np.isnan(y0[pos]):\n",
    "            count = 0\n",
    "            \n",
    "            while np.isnan(y0[pos+count]):\n",
    "                count += 1\n",
    "            \n",
    "            current = y0[pos-1]\n",
    "            future = y0[pos+count]\n",
    "            slope = (future-current)/count\n",
    "            \n",
    "            y0[pos:pos+count] = current + np.arange(1, count+1)*slope\n",
    "            \n",
    "            pos += count\n",
    "        else:\n",
    "            pos += 1\n",
    "            \n",
    "    return y0"
   ]
  },
  {
   "cell_type": "markdown",
   "metadata": {},
   "source": [
    "\n",
    "La imputación de datos (el cálculo de los valores perdidos esperados) es un gran subcampo de estadísticas con una amplia gama de técnicas y enfoques. "
   ]
  },
  {
   "cell_type": "code",
   "execution_count": 44,
   "metadata": {},
   "outputs": [],
   "source": [
    "\n",
    "\n",
    "y_bfill = bfill(y_missing)\n",
    "y_ffill = ffill(y_missing)\n",
    "y_inter = interpolate(y_missing)\n"
   ]
  },
  {
   "cell_type": "markdown",
   "metadata": {},
   "source": [
    "Y graficamos para ver las diferencias."
   ]
  },
  {
   "cell_type": "code",
   "execution_count": 45,
   "metadata": {},
   "outputs": [
    {
     "data": {
      "text/plain": [
       "<matplotlib.legend.Legend at 0x7fa4f9e5bc10>"
      ]
     },
     "execution_count": 45,
     "metadata": {},
     "output_type": "execute_result"
    },
    {
     "data": {
      "image/png": "[encoded data removed]",
      "text/plain": [
       "<Figure size 432x288 with 1 Axes>"
      ]
     },
     "metadata": {
      "needs_background": "light"
     },
     "output_type": "display_data"
    }
   ],
   "source": [
    "\n",
    "\n",
    "plt.plot(x, y_bfill, label='back fill')\n",
    "plt.plot(x, y_ffill, label='forward fill')\n",
    "plt.plot(x, y_inter, label='interpolate')\n",
    "plt.plot(x, y_missing, label='Data')\n",
    "plt.legend()"
   ]
  },
  {
   "cell_type": "markdown",
   "metadata": {},
   "source": [
    "## Resampling\n",
    "\n",
    "En muchos casos, también necesitamos cambiar la frecuencia a la que estamos operando. Por ejemplo, nuestro conjunto de datos DJIA tiene valores al final del día, pero podríamos estar interesados en puntos de datos semanales o mensuales. El remuestreo es una serie de técnicas diseñadas para lidiar con esta situación y es similar en espíritu a las técnicas de ventanas que vimos anteriormente. La principal diferencia es que en lugar de simplemente mover la ventana en un paso fijo, cada ventana corresponde a nuestro período de interés.\n"
   ]
  },
  {
   "cell_type": "code",
   "execution_count": 46,
   "metadata": {},
   "outputs": [],
   "source": [
    "mapping = DJIA['DATE'].dt.year\n",
    "values = DJIA['DJIA'].values\n"
   ]
  },
  {
   "cell_type": "markdown",
   "metadata": {},
   "source": [
    "\n",
    "En el caso más simple, simplemente calculamos cuál es la ventana correcta para cada punto de datos y la agregamos en consecuencia."
   ]
  },
  {
   "cell_type": "code",
   "execution_count": 47,
   "metadata": {},
   "outputs": [],
   "source": [
    "\n",
    "def groupBy(values, mapping, func = None):\n",
    "    agg = {}\n",
    "    pos = {}\n",
    "    \n",
    "    for i in range(values.shape[0]):\n",
    "        key = mapping.iloc[i]\n",
    "        \n",
    "        if key not in agg:\n",
    "            agg[key] = []\n",
    "        \n",
    "        pos[key] = i\n",
    "        \n",
    "        if not np.isnan(values[i]):\n",
    "            agg[key].append(values[i])\n",
    "        \n",
    "    order = sorted(agg.keys())\n",
    "    \n",
    "    if func is not None:\n",
    "        for key in agg:\n",
    "            agg[key] = func(np.array(agg[key]).astype('float'))\n",
    "            \n",
    "    return agg, pos\n"
   ]
  },
  {
   "cell_type": "markdown",
   "metadata": {},
   "source": [
    "Naturalmente, esta función groupBy es útil no solo para remuestrear sino también para una amplia gama de análisis estadísticos. Además de un mapeo, también debemos especificar qué función de agregación queremos usar. ¿Nos interesa el valor medio? ¿el maximo? ¿Desviación Estándar?"
   ]
  },
  {
   "cell_type": "code",
   "execution_count": 48,
   "metadata": {},
   "outputs": [],
   "source": [
    "agg, pos = groupBy(values, mapping, np.mean)"
   ]
  },
  {
   "cell_type": "markdown",
   "metadata": {},
   "source": [
    "Aca simplemente calculamos la media por año"
   ]
  },
  {
   "cell_type": "code",
   "execution_count": 49,
   "metadata": {},
   "outputs": [
    {
     "data": {
      "text/plain": [
       "{2009: 10232.334385964914,\n",
       " 2010: 10668.589087301589,\n",
       " 2011: 11957.570238095239,\n",
       " 2012: 12965.28744,\n",
       " 2013: 15009.523492063492,\n",
       " 2014: 16777.690912698414,\n",
       " 2015: 17587.029166666664,\n",
       " 2016: 17927.107341269842,\n",
       " 2017: 21750.20374501992,\n",
       " 2018: 25046.85734939759,\n",
       " 2019: 26000.832040816327}"
      ]
     },
     "execution_count": 49,
     "metadata": {},
     "output_type": "execute_result"
    }
   ],
   "source": [
    "agg"
   ]
  },
  {
   "cell_type": "markdown",
   "metadata": {},
   "source": [
    "Como nuestra función groupBy también devuelve las posiciones de índice de la última vez que se vio cada bin, podemos comparar fácilmente los datos originales con los muestreados nuevamente."
   ]
  },
  {
   "cell_type": "code",
   "execution_count": 50,
   "metadata": {},
   "outputs": [
    {
     "data": {
      "text/plain": [
       "Text(0.5, 0, 'Date')"
      ]
     },
     "execution_count": 50,
     "metadata": {},
     "output_type": "execute_result"
    },
    {
     "data": {
      "image/png": "[encoded data removed]",
      "text/plain": [
       "<Figure size 432x288 with 1 Axes>"
      ]
     },
     "metadata": {
      "needs_background": "light"
     },
     "output_type": "display_data"
    }
   ],
   "source": [
    "\n",
    "aggregated = []\n",
    "\n",
    "for key in pos:\n",
    "    aggregated.append([pos[key], agg[key]])\n",
    "\n",
    "aggregated = np.array(aggregated)\n",
    "aggregated\n",
    "plt.plot(DJIA['DATE'], DJIA['DJIA'])\n",
    "ax = plt.gca()\n",
    "ax.plot(DJIA.set_index('DATE').index[aggregated.T[0].astype('int')], aggregated.T[1])\n",
    "ax.plot(DJIA.set_index('DATE').index[aggregated.T[0].astype('int')], aggregated.T[1], 'ro', markersize=10,)\n",
    "ax.set_ylabel('DJIA')\n",
    "ax.set_xlabel('Date')"
   ]
  },
  {
   "cell_type": "markdown",
   "metadata": {},
   "source": [
    "## Jackknife estimators\n",
    "\n",
    "Finalmente, en muchos casos queremos estimar cantidades estadísticas de series de tiempo. Un ejemplo obvio podría ser estimar la media móvil de una serie sin tendencia para verificar si de hecho está lo suficientemente cerca de cero para ser considerada estacionaria.\n",
    "\n",
    "El estimador JackKnife nos permite obtener no solo el valor esperado en cuestión, sino también una medida de su varianza. Esto se logra mediante el uso de un enfoque de omisión para calcular N estimaciones de nuestra métrica. A partir de esta población de estimación, podemos obtener los promedios como la mejor estimación posible y la desviación estándar como una medida de las barras de error involucradas.\n"
   ]
  },
  {
   "cell_type": "code",
   "execution_count": 51,
   "metadata": {},
   "outputs": [],
   "source": [
    "def jackknife(x, func, variance = False):\n",
    "    N = len(x)\n",
    "    pos = np.arange(N)\n",
    "    values = [func(x[pos != i]) for i in pos]\n",
    "    jack = np.sum(values)/N\n",
    "    \n",
    "    if variance:\n",
    "        values = [np.power(func(x[pos != i]) - jack, 2.0) for i in pos]\n",
    "        var = (N-1)/N * np.sum(values)\n",
    "        return jack, var\n",
    "    else:\n",
    "        return jack"
   ]
  },
  {
   "cell_type": "code",
   "execution_count": 52,
   "metadata": {},
   "outputs": [
    {
     "name": "stdout",
     "output_type": "stream",
     "text": [
      "1.8994140828534198\n"
     ]
    },
    {
     "data": {
      "text/plain": [
       "(1.8992558510791335, 0.023063797890560296)"
      ]
     },
     "execution_count": 52,
     "metadata": {},
     "output_type": "execute_result"
    }
   ],
   "source": [
    "x = np.random.normal(0, 2, 100)\n",
    "print(x.std())\n",
    "jackknife(x, np.std, True)"
   ]
  },
  {
   "cell_type": "markdown",
   "metadata": {},
   "source": [
    "\n",
    "Con jackknife obtenemos no solo una estimación del valor sino también una medida del error"
   ]
  },
  {
   "cell_type": "markdown",
   "metadata": {},
   "source": [
    "## Bootstrapping\n",
    "\n",
    "Otra técnica común para estimar propiedades estadísticas se conoce como bootstrapping y está estrechamente relacionada con Jackknife. En este enfoque, simplemente tomamos muestras (con reemplazo) de la población original para obtener una medida de cuánta variabilidad se puede esperar.\n"
   ]
  },
  {
   "cell_type": "code",
   "execution_count": 53,
   "metadata": {},
   "outputs": [],
   "source": [
    "def bootstrapping(x, n_samples, func=np.mean):\n",
    "    y = x.copy()\n",
    "    N = len(y)\n",
    "    population = []\n",
    "    \n",
    "    for i in range(n_samples):\n",
    "        population.append(func(np.random.choice(y, N, replace=True)))\n",
    "        \n",
    "    return np.array(population)"
   ]
  },
  {
   "cell_type": "markdown",
   "metadata": {},
   "source": [
    "\n",
    "Podemos generar fácilmente un histograma de las muestras bostrappeadas"
   ]
  },
  {
   "cell_type": "code",
   "execution_count": 54,
   "metadata": {},
   "outputs": [],
   "source": [
    "def histogram(values, n_bins=100):\n",
    "    xmax = values.max()\n",
    "    xmin = values.min()\n",
    "    delta  = (xmax-xmin)/n_bins\n",
    "    \n",
    "    counts = np.zeros(n_bins+1, dtype='int')\n",
    "    \n",
    "    for value in values:\n",
    "        val_bin = np.around((value-xmin)/delta).astype('int')\n",
    "        counts[val_bin] += 1.0\n",
    "    \n",
    "    bins = xmin+delta*np.arange(n_bins+1)\n",
    "    \n",
    "    return bins, counts/values.shape[0]\n"
   ]
  },
  {
   "cell_type": "code",
   "execution_count": 55,
   "metadata": {},
   "outputs": [],
   "source": [
    "  \n",
    "x = np.random.normal(0, 2, size=100)\n"
   ]
  },
  {
   "cell_type": "code",
   "execution_count": 56,
   "metadata": {},
   "outputs": [],
   "source": [
    "\n",
    "boot = bootstrapping(x, 1000)\n"
   ]
  },
  {
   "cell_type": "code",
   "execution_count": 57,
   "metadata": {},
   "outputs": [
    {
     "data": {
      "text/plain": [
       "-0.22862039068812348"
      ]
     },
     "execution_count": 57,
     "metadata": {},
     "output_type": "execute_result"
    }
   ],
   "source": [
    "\n",
    "x.mean()\n"
   ]
  },
  {
   "cell_type": "code",
   "execution_count": 58,
   "metadata": {},
   "outputs": [
    {
     "data": {
      "text/plain": [
       "1.7922436343752959"
      ]
     },
     "execution_count": 58,
     "metadata": {},
     "output_type": "execute_result"
    }
   ],
   "source": [
    "x.std()\n"
   ]
  },
  {
   "cell_type": "code",
   "execution_count": 59,
   "metadata": {},
   "outputs": [],
   "source": [
    "bins, counts = histogram(boot)\n"
   ]
  },
  {
   "cell_type": "code",
   "execution_count": 60,
   "metadata": {},
   "outputs": [
    {
     "data": {
      "text/plain": [
       "<matplotlib.collections.LineCollection at 0x7fa52adc44c0>"
      ]
     },
     "execution_count": 60,
     "metadata": {},
     "output_type": "execute_result"
    },
    {
     "data": {
      "image/png": "[encoded data removed]",
      "text/plain": [
       "<Figure size 432x288 with 1 Axes>"
      ]
     },
     "metadata": {
      "needs_background": "light"
     },
     "output_type": "display_data"
    }
   ],
   "source": [
    "plt.plot(bins, counts)\n",
    "plt.vlines(x=boot.mean(), ymin=0, ymax=counts.max(), label='mean', color='g')\n",
    "plt.vlines(x=boot.mean()+boot.std(), ymin=0, ymax=counts.max(), label='std', linestyles='--', color='r')\n",
    "plt.vlines(x=boot.mean()-boot.std(), ymin=0, ymax=counts.max(), label='std', linestyles='--', color='r')\n"
   ]
  },
  {
   "cell_type": "markdown",
   "metadata": {},
   "source": [
    "# Actividad Bloque 1:\n",
    "\n",
    "1. Siga este ejemplo practico de importar datos desde la API del Banco Mundial y preparar la base para su análisis de series de tiempo.\n",
    "2. Importe usted la serie de GDP total Y Percapita para otro país serie desde la API del Banco mundial, muestre sus principales características y realice un grafico. \n",
    "3. Obtenga las primeras diferencias y compare, ¿pareciera haber tendencias?"
   ]
  },
  {
   "cell_type": "code",
   "execution_count": 72,
   "metadata": {},
   "outputs": [
    {
     "data": {
      "text/html": [
       "<div>\n",
       "<style scoped>\n",
       "    .dataframe tbody tr th:only-of-type {\n",
       "        vertical-align: middle;\n",
       "    }\n",
       "\n",
       "    .dataframe tbody tr th {\n",
       "        vertical-align: top;\n",
       "    }\n",
       "\n",
       "    .dataframe thead th {\n",
       "        text-align: right;\n",
       "    }\n",
       "</style>\n",
       "<table border=\"1\" class=\"dataframe\">\n",
       "  <thead>\n",
       "    <tr style=\"text-align: right;\">\n",
       "      <th></th>\n",
       "      <th>id</th>\n",
       "      <th>name</th>\n",
       "      <th>unit</th>\n",
       "      <th>source</th>\n",
       "      <th>sourceNote</th>\n",
       "      <th>sourceOrganization</th>\n",
       "      <th>topics</th>\n",
       "    </tr>\n",
       "  </thead>\n",
       "  <tbody>\n",
       "    <tr>\n",
       "      <th>711</th>\n",
       "      <td>5.51.01.10.gdp</td>\n",
       "      <td>Per capita GDP growth</td>\n",
       "      <td></td>\n",
       "      <td>Statistical Capacity Indicators</td>\n",
       "      <td>GDP per capita is the sum of gross value added...</td>\n",
       "      <td>b'World Development Indicator (WDI) databank. ...</td>\n",
       "      <td></td>\n",
       "    </tr>\n",
       "    <tr>\n",
       "      <th>713</th>\n",
       "      <td>6.0.GDP_current</td>\n",
       "      <td>GDP (current $)</td>\n",
       "      <td></td>\n",
       "      <td>LAC Equity Lab</td>\n",
       "      <td>GDP is the sum of gross value added by all res...</td>\n",
       "      <td>b'World Development Indicators (World Bank)'</td>\n",
       "      <td>Economy &amp; Growth</td>\n",
       "    </tr>\n",
       "    <tr>\n",
       "      <th>714</th>\n",
       "      <td>6.0.GDP_growth</td>\n",
       "      <td>GDP growth (annual %)</td>\n",
       "      <td></td>\n",
       "      <td>LAC Equity Lab</td>\n",
       "      <td>Annual percentage growth rate of GDP at market...</td>\n",
       "      <td>b'World Development Indicators (World Bank)'</td>\n",
       "      <td>Economy &amp; Growth</td>\n",
       "    </tr>\n",
       "    <tr>\n",
       "      <th>715</th>\n",
       "      <td>6.0.GDP_usd</td>\n",
       "      <td>GDP (constant 2005 $)</td>\n",
       "      <td></td>\n",
       "      <td>LAC Equity Lab</td>\n",
       "      <td>GDP is the sum of gross value added by all res...</td>\n",
       "      <td>b'World Development Indicators (World Bank)'</td>\n",
       "      <td>Economy &amp; Growth</td>\n",
       "    </tr>\n",
       "    <tr>\n",
       "      <th>716</th>\n",
       "      <td>6.0.GDPpc_constant</td>\n",
       "      <td>GDP per capita, PPP (constant 2011 internation...</td>\n",
       "      <td></td>\n",
       "      <td>LAC Equity Lab</td>\n",
       "      <td>GDP per capita based on purchasing power parit...</td>\n",
       "      <td>b'World Development Indicators (World Bank)'</td>\n",
       "      <td>Economy &amp; Growth</td>\n",
       "    </tr>\n",
       "    <tr>\n",
       "      <th>...</th>\n",
       "      <td>...</td>\n",
       "      <td>...</td>\n",
       "      <td>...</td>\n",
       "      <td>...</td>\n",
       "      <td>...</td>\n",
       "      <td>...</td>\n",
       "      <td>...</td>\n",
       "    </tr>\n",
       "    <tr>\n",
       "      <th>16297</th>\n",
       "      <td>UIS.XUNIT.GDPCAP.23.FSGOV</td>\n",
       "      <td>Initial government funding per secondary stude...</td>\n",
       "      <td></td>\n",
       "      <td>Education Statistics</td>\n",
       "      <td>Total general (local, regional and central, cu...</td>\n",
       "      <td>b'UNESCO Institute for Statistics'</td>\n",
       "      <td></td>\n",
       "    </tr>\n",
       "    <tr>\n",
       "      <th>16298</th>\n",
       "      <td>UIS.XUNIT.GDPCAP.23.FSHH</td>\n",
       "      <td>Initial household funding per secondary studen...</td>\n",
       "      <td></td>\n",
       "      <td>Education Statistics</td>\n",
       "      <td>Total payments of households (pupils, students...</td>\n",
       "      <td>b'UNESCO Institute for Statistics'</td>\n",
       "      <td></td>\n",
       "    </tr>\n",
       "    <tr>\n",
       "      <th>16299</th>\n",
       "      <td>UIS.XUNIT.GDPCAP.3.FSGOV</td>\n",
       "      <td>Initial government funding per upper secondary...</td>\n",
       "      <td></td>\n",
       "      <td>Education Statistics</td>\n",
       "      <td>Total general (local, regional and central, cu...</td>\n",
       "      <td>b'UNESCO Institute for Statistics'</td>\n",
       "      <td></td>\n",
       "    </tr>\n",
       "    <tr>\n",
       "      <th>16300</th>\n",
       "      <td>UIS.XUNIT.GDPCAP.5T8.FSGOV</td>\n",
       "      <td>Initial government funding per tertiary studen...</td>\n",
       "      <td></td>\n",
       "      <td>Education Statistics</td>\n",
       "      <td>Total general (local, regional and central, cu...</td>\n",
       "      <td>b'UNESCO Institute for Statistics'</td>\n",
       "      <td></td>\n",
       "    </tr>\n",
       "    <tr>\n",
       "      <th>16301</th>\n",
       "      <td>UIS.XUNIT.GDPCAP.5T8.FSHH</td>\n",
       "      <td>Initial household funding per tertiary student...</td>\n",
       "      <td></td>\n",
       "      <td>Education Statistics</td>\n",
       "      <td>Total payments of households (pupils, students...</td>\n",
       "      <td>b'UNESCO Institute for Statistics'</td>\n",
       "      <td></td>\n",
       "    </tr>\n",
       "  </tbody>\n",
       "</table>\n",
       "<p>542 rows × 7 columns</p>\n",
       "</div>"
      ],
      "text/plain": [
       "                               id  \\\n",
       "711                5.51.01.10.gdp   \n",
       "713               6.0.GDP_current   \n",
       "714                6.0.GDP_growth   \n",
       "715                   6.0.GDP_usd   \n",
       "716            6.0.GDPpc_constant   \n",
       "...                           ...   \n",
       "16297   UIS.XUNIT.GDPCAP.23.FSGOV   \n",
       "16298    UIS.XUNIT.GDPCAP.23.FSHH   \n",
       "16299    UIS.XUNIT.GDPCAP.3.FSGOV   \n",
       "16300  UIS.XUNIT.GDPCAP.5T8.FSGOV   \n",
       "16301   UIS.XUNIT.GDPCAP.5T8.FSHH   \n",
       "\n",
       "                                                    name unit  \\\n",
       "711                                Per capita GDP growth        \n",
       "713                                      GDP (current $)        \n",
       "714                                GDP growth (annual %)        \n",
       "715                                GDP (constant 2005 $)        \n",
       "716    GDP per capita, PPP (constant 2011 internation...        \n",
       "...                                                  ...  ...   \n",
       "16297  Initial government funding per secondary stude...        \n",
       "16298  Initial household funding per secondary studen...        \n",
       "16299  Initial government funding per upper secondary...        \n",
       "16300  Initial government funding per tertiary studen...        \n",
       "16301  Initial household funding per tertiary student...        \n",
       "\n",
       "                                source  \\\n",
       "711    Statistical Capacity Indicators   \n",
       "713                     LAC Equity Lab   \n",
       "714                     LAC Equity Lab   \n",
       "715                     LAC Equity Lab   \n",
       "716                     LAC Equity Lab   \n",
       "...                                ...   \n",
       "16297             Education Statistics   \n",
       "16298             Education Statistics   \n",
       "16299             Education Statistics   \n",
       "16300             Education Statistics   \n",
       "16301             Education Statistics   \n",
       "\n",
       "                                              sourceNote  \\\n",
       "711    GDP per capita is the sum of gross value added...   \n",
       "713    GDP is the sum of gross value added by all res...   \n",
       "714    Annual percentage growth rate of GDP at market...   \n",
       "715    GDP is the sum of gross value added by all res...   \n",
       "716    GDP per capita based on purchasing power parit...   \n",
       "...                                                  ...   \n",
       "16297  Total general (local, regional and central, cu...   \n",
       "16298  Total payments of households (pupils, students...   \n",
       "16299  Total general (local, regional and central, cu...   \n",
       "16300  Total general (local, regional and central, cu...   \n",
       "16301  Total payments of households (pupils, students...   \n",
       "\n",
       "                                      sourceOrganization            topics  \n",
       "711    b'World Development Indicator (WDI) databank. ...                    \n",
       "713         b'World Development Indicators (World Bank)'  Economy & Growth  \n",
       "714         b'World Development Indicators (World Bank)'  Economy & Growth  \n",
       "715         b'World Development Indicators (World Bank)'  Economy & Growth  \n",
       "716         b'World Development Indicators (World Bank)'  Economy & Growth  \n",
       "...                                                  ...               ...  \n",
       "16297                 b'UNESCO Institute for Statistics'                    \n",
       "16298                 b'UNESCO Institute for Statistics'                    \n",
       "16299                 b'UNESCO Institute for Statistics'                    \n",
       "16300                 b'UNESCO Institute for Statistics'                    \n",
       "16301                 b'UNESCO Institute for Statistics'                    \n",
       "\n",
       "[542 rows x 7 columns]"
      ]
     },
     "execution_count": 72,
     "metadata": {},
     "output_type": "execute_result"
    }
   ],
   "source": [
    "#pandas remote data access support for calls to the World Bank Indicators API\n",
    "from pandas_datareader import data, wb #instalar conda install pandas-datareader  o  pip installpandas-datareader\n",
    "\n",
    "#Revisemos que indicadores hay disponibles. En este caso revisare de PIB (GDP en ingés), pero se pueden explorar muchas más opciones.\n",
    "\n",
    "wb.search('gdp')\n"
   ]
  },
  {
   "cell_type": "code",
   "execution_count": null,
   "metadata": {},
   "outputs": [],
   "source": [
    "# Obtengamos la lista de paises disponibles\n",
    "countries=wb.get_countries()\n",
    "\n",
    "#Preview primeras filas lista de paises\n",
    "countries[:5]"
   ]
  },
  {
   "cell_type": "code",
   "execution_count": null,
   "metadata": {},
   "outputs": [],
   "source": [
    "#sabemos que queremos Chile, asi que busquemos su info\n",
    "\n",
    "countries[ countries['name'] == 'Chile' ]"
   ]
  },
  {
   "cell_type": "code",
   "execution_count": null,
   "metadata": {},
   "outputs": [],
   "source": [
    "# Descarguemos la data desde la API del banco muncial a un dataframe\n",
    "\n",
    "df_GPDpc_Chile = wb.download(\n",
    "                    #Use the indicator attribute to identify which indicator or indicators to download\n",
    "                    indicator='NY.GDP.PCAP.KD',\n",
    "                    #Use the country attribute to identify the countries you want data for\n",
    "                    country=['CL'],\n",
    "                    #Identify the first year for which you want the data, as an integer or a string\n",
    "                    start='1980',\n",
    "                    #Identify the last year for which you want the data, as an integer or a string\n",
    "                    end=2020\n",
    "                )\n",
    "\n",
    "#Veamos el data frame\n",
    "df_GPDpc_Chile.head(10)"
   ]
  },
  {
   "cell_type": "code",
   "execution_count": null,
   "metadata": {},
   "outputs": [],
   "source": [
    "wb.download( indicator=['NY.GDP.PCAP.PP.KD','NY.GDP.PCAP.KD'], country=['CL'], start=2008, end=2010 )"
   ]
  },
  {
   "cell_type": "code",
   "execution_count": null,
   "metadata": {},
   "outputs": [],
   "source": [
    "sns.scatterplot(data=df_GPDpc_Chile, x=\"year\", y=\"NY.GDP.PCAP.KD\")"
   ]
  },
  {
   "cell_type": "code",
   "execution_count": null,
   "metadata": {},
   "outputs": [],
   "source": []
  }
 ],
 "metadata": {
  "interpreter": {
   "hash": "aee8b7b246df8f9039afb4144a1f6fd8d2ca17a180786b69acc140d282b71a49"
  },
  "kernelspec": {
   "display_name": "Python 3",
   "language": "python",
   "name": "python3"
  },
  "language_info": {
   "codemirror_mode": {
    "name": "ipython",
    "version": 3
   },
   "file_extension": ".py",
   "mimetype": "text/x-python",
   "name": "python",
   "nbconvert_exporter": "python",
   "pygments_lexer": "ipython3",
   "version": "3.9.7"
  }
 },
 "nbformat": 4,
 "nbformat_minor": 2
}
