{
 "cells": [
  {
   "cell_type": "markdown",
   "metadata": {},
   "source": [
    "# Bloque 3: Estimación de efectos causales dinámicos\n",
    "\n",
    "Melanie Oyarzún W.\n",
    "\n",
    "\n",
    "**Resultado de aprendizaje esperado:**\n",
    "\n",
    "Identificar datos de series temporales, sus particularidades y riesgos, en el contexto de posibles aplicaciones profesionales.\n",
    "\n",
    "**Bibliografía recomendada:**\n",
    "\n",
    "Stock & Watson, C.15 [link](https://www.dropbox.com/s/d09qcat340jy5q2/stock%20y%20watson%20-%20Introduccion%20a%20la%20Econometria.pdf?dl=0) \n",
    "\n",
    "**Material de apoyo***\n",
    "\n",
    "El taller cuenta con un repositorio  [https://github.com/melanieoyarzun/taller_IDS2021](https://github.com/melanieoyarzun/taller_IDS2021) en el cual está dispoinible todo el material.\n",
    "\n",
    "**Slides**\n",
    "\n",
    "Estan disponibles en el repositorio o directamente en el link "
   ]
  },
  {
   "cell_type": "code",
   "execution_count": 1,
   "metadata": {},
   "outputs": [],
   "source": [
    "# settings y paquetes\n",
    "\n",
    "from dateutil.parser import parse \n",
    "import matplotlib as mpl\n",
    "import matplotlib.pyplot as plt\n",
    "import seaborn as sns\n",
    "import numpy as np\n",
    "import pandas as pd\n",
    "\n",
    "plt.rcParams.update({'figure.figsize': (10, 7), 'figure.dpi': 120})\n"
   ]
  },
  {
   "cell_type": "markdown",
   "metadata": {},
   "source": [
    "---"
   ]
  },
  {
   "cell_type": "markdown",
   "metadata": {},
   "source": [
    "## Efectos Causales dunámicos\n",
    "\n",
    "En esta sección, exploraremos como estimar el efecto de Y aora y en el futuro de una variación de X.\n",
    "\n",
    "Ej:¿ Cual será la evolución temporal de los precios de la palta, después de una temporada de helada en Quillota?\n",
    "\n",
    "Nustro punto de partida en la modelizaicón será el llamado **modelo de retardos distribuidos**.\n",
    "\n",
    "Revisaremos dos alternativas de estimación: \n",
    " * Directa por MCO, corrigiendo los errores para que sean *consistentes a la heterocedasticidad y autocorrelación\"\n",
    " * Modelizar los errores reconociendo sus problemas, mediante un modelo autorregresivo de retardos distribuidos.\n",
    "\n",
    "El objetivo es reslatar el tipo de estiaciones causales que se pueden realizar y sus limitantes. \n",
    "\n"
   ]
  },
  {
   "cell_type": "markdown",
   "metadata": {},
   "source": [
    "# Supuestos no cumplidos y opciones\n",
    "\n",
    "\n",
    "Para poder interpretar causalmente un modelo estático de regresión lineal multiple en series de tiempo necesitamos que se cumplan los siguientes supuestos de Gauss Markov:\n",
    "\n",
    "1. Modelo lineal en parámetros\n",
    "$$y_{t}=\\beta_{0}+\\beta_{1}x_{1t}+\\dots+\\beta_{1}x_{kt}+u_{t}$$\n",
    "\n",
    "2. Media condicionada nula o exogeneidad (que ahora es estricta)\n",
    "$$ E[u_{t}|X_{js}]=0 \\quad \\forall s$$\n",
    "3. No hay colinealidad perfecta.\n",
    "4.  Homoscedasticidad\n",
    "$$ Var[u_{t}|X_{js}]=\\sigma \\quad \\forall s $$\n",
    "\n",
    "5 No hay correlación serial.\n",
    "$$ Cov[u_{t}, u_{s}|X_{js}]=\\sigma \\quad \\forall s\\ne t$$\n",
    "\n",
    "Cada uno de estos supuestos tiene diferentes implicancias:\n",
    "\n",
    "1-3 es que el estimador de MCO $\\hat{\\beta}$ es insesgado.\n",
    "4-5 que tiene minima varianza de los estimadores lineales (eficiente)\n",
    "\n",
    "1-5 -> MELI\n",
    "\n",
    "Vemos que hay dos elementos diferentes a corte transversal: cambia la exogeneidad a uno más estricto y aparece un nuevo supuesto, correlación serial. Revisemos ambos y veamos que hacer:\n",
    "\n",
    "\n"
   ]
  },
  {
   "cell_type": "markdown",
   "metadata": {},
   "source": [
    "## Exogeneidad estricta\n",
    "\n",
    "¿cuándo falla supuesto de exogeneidad estricta?\n",
    "\n",
    "Cuando tenemos particularidades temporales actuando en el proceso estocástico:\n",
    "\n",
    "* Efecto rezagado (variable independiente rezagada)\n",
    "* Retroalimentación entre variables\n",
    "* Auto-dependencia, la variable depende de si misma en el pasaod(variable dependiente rezagada, AR(1) )\n",
    "\n",
    "\n",
    "** Implicancia:**\n",
    "\n",
    " $$ E(\\hat{\\beta}_{ols}|X) \\ne \\beta $$  (sesgado)\n",
    "\n",
    "\n",
    "¿Qué hacemos? Aceptar las peculiaridades y aprovecharalas en el modelamiento.\n",
    "\n",
    "* Bajo ciertos supuestos, aún cuando $ E(\\hat{\\beta}_{ols}|X) \\ne \\beta $ (es sesgado), ocurre que $ E(\\hat{\\beta}_{ols}|X) \\to^{p\n",
    "    } \\beta $ (es consistente) cuando $n \\to \\infty $\n",
    "\n",
    "* Se deben cumplir **supuestos asintóticos** (en muestra grande)\n",
    "\n",
    "1. Modelo lineal en parámetros\n",
    "\n",
    "2.  Estacionareidad y dependencia débil \n",
    "\n",
    "3. Exogeneidad ``débil'' $(E[u_t¦X_{jt} ]=0 )$\n",
    "\n",
    "4.  No hay colinealidad perfecta.\n",
    "\n",
    "5. Homoscedasticidad\n",
    "\n",
    "6. No hay correlación serial.\n",
    "\n",
    "\n",
    "Entonces,  aseguramos una muestra lo suficientemente grande y ajustamos el modelo para que se cumplan estas nuevas condiciones."
   ]
  },
  {
   "cell_type": "markdown",
   "metadata": {},
   "source": [
    "## Correlación serial\n",
    "\n",
    "Ocurre cuando:\n",
    "$$ Cov[u_{t}, u_{s}|X_{js}] \\neq \\sigma \\quad \\forall s\\ne t$$\n",
    "\n",
    "* Muchas variables de series de tiempo están relacionadas con sus valores pasados.\n",
    "\n",
    "**Razones:** inercia, reacciones rezagadas, entre otras.\n",
    "\n",
    "* Esta relación con el pasado se conoce como \\textbf{autocorrelación}.\n",
    "\n",
    "* Si los valores de una variable X en el presente están correlacionados con valores pasados de otra variable, Y, se conoce como **correlación serial**\n",
    "\n",
    "* A veces se usan los términos como sinónimos."
   ]
  },
  {
   "cell_type": "markdown",
   "metadata": {},
   "source": []
  }
 ],
 "metadata": {
  "interpreter": {
   "hash": "aee8b7b246df8f9039afb4144a1f6fd8d2ca17a180786b69acc140d282b71a49"
  },
  "kernelspec": {
   "display_name": "Python 3",
   "language": "python",
   "name": "python3"
  },
  "language_info": {
   "codemirror_mode": {
    "name": "ipython",
    "version": 3
   },
   "file_extension": ".py",
   "mimetype": "text/x-python",
   "name": "python",
   "nbconvert_exporter": "python",
   "pygments_lexer": "ipython3",
   "version": "3.9.7"
  }
 },
 "nbformat": 4,
 "nbformat_minor": 2
}
